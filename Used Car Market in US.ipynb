{
 "cells": [
  {
   "cell_type": "markdown",
   "id": "1748eb06",
   "metadata": {},
   "source": [
    "This Project we analyze a dataset from MarketCheck which holds information about the Used Car Market in the US.\n",
    "\n",
    "Aggregated from over 65,000 dealer websites, the dataset contains ~7 million rows and 21 columns.\n",
    "\n",
    "We'll be using a sample size of ~1 million rows with 15 columns to conduct our analysis\n",
    "\n",
    "Through the analysis, we aim to:\n",
    "\n",
    "1. Get to know the 'Used Car Market in the US'.\n",
    "\n",
    "2. Understand the Used Car Market for newer used cars from years 2010-2021.\n",
    "\n",
    "3. Find insights and value by answering questions to help find the best deal for a car."
   ]
  },
  {
   "cell_type": "code",
   "execution_count": 1,
   "id": "e9bb6c82",
   "metadata": {},
   "outputs": [],
   "source": [
    "#IMPORT LIBRARIES\n",
    "import matplotlib as mpl\n",
    "import numpy as np\n",
    "import matplotlib.pyplot as plt \n",
    "%matplotlib inline\n",
    "import seaborn as sns\n",
    "import pandas as pd\n",
    "import statsmodels.api as sm"
   ]
  },
  {
   "cell_type": "code",
   "execution_count": 2,
   "id": "5087f122",
   "metadata": {},
   "outputs": [
    {
     "name": "stderr",
     "output_type": "stream",
     "text": [
      "/Users/hseo/opt/anaconda3/lib/python3.9/site-packages/IPython/core/interactiveshell.py:3444: DtypeWarning: Columns (20) have mixed types.Specify dtype option on import or set low_memory=False.\n",
      "  exec(code_obj, self.user_global_ns, self.user_ns)\n"
     ]
    }
   ],
   "source": [
    "#IMPORT DATASET\n",
    "df_used = pd.read_csv('us-dealers-used.csv')"
   ]
  },
  {
   "cell_type": "code",
   "execution_count": 3,
   "id": "9d980805",
   "metadata": {},
   "outputs": [
    {
     "data": {
      "text/plain": [
       "(7104304, 21)"
      ]
     },
     "execution_count": 3,
     "metadata": {},
     "output_type": "execute_result"
    }
   ],
   "source": [
    "#Number of rows and columns in a dataset\n",
    "df_used.shape"
   ]
  },
  {
   "cell_type": "code",
   "execution_count": 4,
   "id": "27f83e13",
   "metadata": {},
   "outputs": [
    {
     "name": "stdout",
     "output_type": "stream",
     "text": [
      "CPU times: user 12.3 s, sys: 6.87 s, total: 19.2 s\n",
      "Wall time: 22.3 s\n"
     ]
    }
   ],
   "source": [
    "%%time\n",
    "df_used = pd.read_csv('us-dealers-used.csv',  low_memory=False, nrows=2500000)"
   ]
  },
  {
   "cell_type": "code",
   "execution_count": 5,
   "id": "c7fefd2e",
   "metadata": {},
   "outputs": [
    {
     "data": {
      "text/plain": [
       "(2500000, 21)"
      ]
     },
     "execution_count": 5,
     "metadata": {},
     "output_type": "execute_result"
    }
   ],
   "source": [
    "#Number of rows and columns used for analysis\n",
    "df_used.shape"
   ]
  },
  {
   "cell_type": "code",
   "execution_count": 6,
   "id": "7540d478",
   "metadata": {},
   "outputs": [
    {
     "data": {
      "text/html": [
       "<div>\n",
       "<style scoped>\n",
       "    .dataframe tbody tr th:only-of-type {\n",
       "        vertical-align: middle;\n",
       "    }\n",
       "\n",
       "    .dataframe tbody tr th {\n",
       "        vertical-align: top;\n",
       "    }\n",
       "\n",
       "    .dataframe thead th {\n",
       "        text-align: right;\n",
       "    }\n",
       "</style>\n",
       "<table border=\"1\" class=\"dataframe\">\n",
       "  <thead>\n",
       "    <tr style=\"text-align: right;\">\n",
       "      <th></th>\n",
       "      <th>id</th>\n",
       "      <th>vin</th>\n",
       "      <th>price</th>\n",
       "      <th>miles</th>\n",
       "      <th>stock_no</th>\n",
       "      <th>year</th>\n",
       "      <th>make</th>\n",
       "      <th>model</th>\n",
       "      <th>trim</th>\n",
       "      <th>body_type</th>\n",
       "      <th>...</th>\n",
       "      <th>drivetrain</th>\n",
       "      <th>transmission</th>\n",
       "      <th>fuel_type</th>\n",
       "      <th>engine_size</th>\n",
       "      <th>engine_block</th>\n",
       "      <th>seller_name</th>\n",
       "      <th>street</th>\n",
       "      <th>city</th>\n",
       "      <th>state</th>\n",
       "      <th>zip</th>\n",
       "    </tr>\n",
       "  </thead>\n",
       "  <tbody>\n",
       "    <tr>\n",
       "      <th>0</th>\n",
       "      <td>38b2f52e-8f5d</td>\n",
       "      <td>1GCWGFCF3F1284719</td>\n",
       "      <td>20998.0</td>\n",
       "      <td>115879.0</td>\n",
       "      <td>W1T503168C</td>\n",
       "      <td>2015.0</td>\n",
       "      <td>Chevrolet</td>\n",
       "      <td>Express Cargo</td>\n",
       "      <td>Work Van</td>\n",
       "      <td>Cargo Van</td>\n",
       "      <td>...</td>\n",
       "      <td>RWD</td>\n",
       "      <td>Automatic</td>\n",
       "      <td>E85 / Unleaded</td>\n",
       "      <td>4.8</td>\n",
       "      <td>V</td>\n",
       "      <td>nissan ellicott city</td>\n",
       "      <td>8569 Baltimore National Pike</td>\n",
       "      <td>Ellicott City</td>\n",
       "      <td>MD</td>\n",
       "      <td>21043</td>\n",
       "    </tr>\n",
       "    <tr>\n",
       "      <th>1</th>\n",
       "      <td>97ba4955-ccf0</td>\n",
       "      <td>WBY7Z8C59JVB87514</td>\n",
       "      <td>27921.0</td>\n",
       "      <td>7339.0</td>\n",
       "      <td>P33243</td>\n",
       "      <td>2018.0</td>\n",
       "      <td>BMW</td>\n",
       "      <td>i3</td>\n",
       "      <td>s</td>\n",
       "      <td>Hatchback</td>\n",
       "      <td>...</td>\n",
       "      <td>RWD</td>\n",
       "      <td>Automatic</td>\n",
       "      <td>Electric / Premium Unleaded</td>\n",
       "      <td>0.6</td>\n",
       "      <td>I</td>\n",
       "      <td>hendrick honda pompano beach</td>\n",
       "      <td>5381 N Federal Highway</td>\n",
       "      <td>Pompano Beach</td>\n",
       "      <td>FL</td>\n",
       "      <td>33064</td>\n",
       "    </tr>\n",
       "    <tr>\n",
       "      <th>2</th>\n",
       "      <td>be1da9fd-0f34</td>\n",
       "      <td>ML32F4FJ2JHF10325</td>\n",
       "      <td>11055.0</td>\n",
       "      <td>39798.0</td>\n",
       "      <td>WM2091A</td>\n",
       "      <td>2018.0</td>\n",
       "      <td>Mitsubishi</td>\n",
       "      <td>Mirage G4</td>\n",
       "      <td>SE</td>\n",
       "      <td>Sedan</td>\n",
       "      <td>...</td>\n",
       "      <td>FWD</td>\n",
       "      <td>Automatic</td>\n",
       "      <td>Unleaded</td>\n",
       "      <td>1.2</td>\n",
       "      <td>I</td>\n",
       "      <td>russ darrow toyota</td>\n",
       "      <td>2700 West Washington St.</td>\n",
       "      <td>West Bend</td>\n",
       "      <td>WI</td>\n",
       "      <td>53095</td>\n",
       "    </tr>\n",
       "    <tr>\n",
       "      <th>3</th>\n",
       "      <td>84327e45-6cb6</td>\n",
       "      <td>1GCPTEE15K1291189</td>\n",
       "      <td>52997.0</td>\n",
       "      <td>28568.0</td>\n",
       "      <td>9U2Y425A</td>\n",
       "      <td>2019.0</td>\n",
       "      <td>Chevrolet</td>\n",
       "      <td>Colorado</td>\n",
       "      <td>ZR2</td>\n",
       "      <td>Pickup</td>\n",
       "      <td>...</td>\n",
       "      <td>4WD</td>\n",
       "      <td>Automatic</td>\n",
       "      <td>Diesel</td>\n",
       "      <td>2.8</td>\n",
       "      <td>I</td>\n",
       "      <td>young kia</td>\n",
       "      <td>308 North Main Street</td>\n",
       "      <td>Layton</td>\n",
       "      <td>UT</td>\n",
       "      <td>84041</td>\n",
       "    </tr>\n",
       "    <tr>\n",
       "      <th>4</th>\n",
       "      <td>cde691c3-91dd</td>\n",
       "      <td>1G2AL18F087312093</td>\n",
       "      <td>NaN</td>\n",
       "      <td>188485.0</td>\n",
       "      <td>T36625A</td>\n",
       "      <td>2008.0</td>\n",
       "      <td>Pontiac</td>\n",
       "      <td>G5</td>\n",
       "      <td>Base</td>\n",
       "      <td>Coupe</td>\n",
       "      <td>...</td>\n",
       "      <td>FWD</td>\n",
       "      <td>Automatic</td>\n",
       "      <td>Unleaded</td>\n",
       "      <td>2.2</td>\n",
       "      <td>I</td>\n",
       "      <td>pappas toyota</td>\n",
       "      <td>10011 Spencer Rd</td>\n",
       "      <td>Saint Peters</td>\n",
       "      <td>MO</td>\n",
       "      <td>63376</td>\n",
       "    </tr>\n",
       "  </tbody>\n",
       "</table>\n",
       "<p>5 rows × 21 columns</p>\n",
       "</div>"
      ],
      "text/plain": [
       "              id                vin    price     miles    stock_no    year  \\\n",
       "0  38b2f52e-8f5d  1GCWGFCF3F1284719  20998.0  115879.0  W1T503168C  2015.0   \n",
       "1  97ba4955-ccf0  WBY7Z8C59JVB87514  27921.0    7339.0      P33243  2018.0   \n",
       "2  be1da9fd-0f34  ML32F4FJ2JHF10325  11055.0   39798.0     WM2091A  2018.0   \n",
       "3  84327e45-6cb6  1GCPTEE15K1291189  52997.0   28568.0    9U2Y425A  2019.0   \n",
       "4  cde691c3-91dd  1G2AL18F087312093      NaN  188485.0     T36625A  2008.0   \n",
       "\n",
       "         make          model      trim  body_type  ... drivetrain  \\\n",
       "0   Chevrolet  Express Cargo  Work Van  Cargo Van  ...        RWD   \n",
       "1         BMW             i3         s  Hatchback  ...        RWD   \n",
       "2  Mitsubishi      Mirage G4        SE      Sedan  ...        FWD   \n",
       "3   Chevrolet       Colorado       ZR2     Pickup  ...        4WD   \n",
       "4     Pontiac             G5      Base      Coupe  ...        FWD   \n",
       "\n",
       "  transmission                    fuel_type engine_size  engine_block  \\\n",
       "0    Automatic               E85 / Unleaded         4.8             V   \n",
       "1    Automatic  Electric / Premium Unleaded         0.6             I   \n",
       "2    Automatic                     Unleaded         1.2             I   \n",
       "3    Automatic                       Diesel         2.8             I   \n",
       "4    Automatic                     Unleaded         2.2             I   \n",
       "\n",
       "                    seller_name                        street           city  \\\n",
       "0          nissan ellicott city  8569 Baltimore National Pike  Ellicott City   \n",
       "1  hendrick honda pompano beach        5381 N Federal Highway  Pompano Beach   \n",
       "2            russ darrow toyota      2700 West Washington St.      West Bend   \n",
       "3                     young kia         308 North Main Street         Layton   \n",
       "4                 pappas toyota              10011 Spencer Rd   Saint Peters   \n",
       "\n",
       "  state    zip  \n",
       "0    MD  21043  \n",
       "1    FL  33064  \n",
       "2    WI  53095  \n",
       "3    UT  84041  \n",
       "4    MO  63376  \n",
       "\n",
       "[5 rows x 21 columns]"
      ]
     },
     "execution_count": 6,
     "metadata": {},
     "output_type": "execute_result"
    }
   ],
   "source": [
    "df_used.head()"
   ]
  },
  {
   "cell_type": "code",
   "execution_count": 7,
   "id": "ea4c4630",
   "metadata": {},
   "outputs": [
    {
     "data": {
      "text/plain": [
       "id               object\n",
       "vin              object\n",
       "price           float64\n",
       "miles           float64\n",
       "stock_no         object\n",
       "year            float64\n",
       "make             object\n",
       "model            object\n",
       "trim             object\n",
       "body_type        object\n",
       "vehicle_type     object\n",
       "drivetrain       object\n",
       "transmission     object\n",
       "fuel_type        object\n",
       "engine_size     float64\n",
       "engine_block     object\n",
       "seller_name      object\n",
       "street           object\n",
       "city             object\n",
       "state            object\n",
       "zip              object\n",
       "dtype: object"
      ]
     },
     "execution_count": 7,
     "metadata": {},
     "output_type": "execute_result"
    }
   ],
   "source": [
    "df_used.dtypes"
   ]
  },
  {
   "cell_type": "markdown",
   "id": "16dba3df",
   "metadata": {},
   "source": [
    "We will selecting 15 columns out of the 21 columns that are relevant for our analysis"
   ]
  },
  {
   "cell_type": "code",
   "execution_count": 8,
   "id": "9e76e8a1",
   "metadata": {},
   "outputs": [],
   "source": [
    "df_used = df_used[['vin', 'price', 'miles','year','make', 'model', 'body_type', 'vehicle_type',\n",
    "                   'drivetrain', 'transmission', 'fuel_type', 'engine_size', 'city', 'state', 'zip']]"
   ]
  },
  {
   "cell_type": "code",
   "execution_count": 9,
   "id": "0e3d06e3",
   "metadata": {},
   "outputs": [
    {
     "data": {
      "text/plain": [
       "(2500000, 15)"
      ]
     },
     "execution_count": 9,
     "metadata": {},
     "output_type": "execute_result"
    }
   ],
   "source": [
    "df_used.shape"
   ]
  },
  {
   "cell_type": "markdown",
   "id": "be8acdcd",
   "metadata": {},
   "source": [
    "Next we check for missing values and duplicates "
   ]
  },
  {
   "cell_type": "code",
   "execution_count": 10,
   "id": "4b4b8a14",
   "metadata": {},
   "outputs": [
    {
     "data": {
      "text/plain": [
       "vin                  0\n",
       "price           229615\n",
       "miles            25051\n",
       "year                72\n",
       "make                 0\n",
       "model             4015\n",
       "body_type        13922\n",
       "vehicle_type     19210\n",
       "drivetrain        7870\n",
       "transmission      6744\n",
       "fuel_type        22893\n",
       "engine_size      51688\n",
       "city              4208\n",
       "state             4215\n",
       "zip               4295\n",
       "dtype: int64"
      ]
     },
     "execution_count": 10,
     "metadata": {},
     "output_type": "execute_result"
    }
   ],
   "source": [
    "df_used.isnull().sum()"
   ]
  },
  {
   "cell_type": "code",
   "execution_count": 11,
   "id": "fde532ac",
   "metadata": {},
   "outputs": [],
   "source": [
    "df_used = df_used.dropna()"
   ]
  },
  {
   "cell_type": "code",
   "execution_count": 12,
   "id": "2375543c",
   "metadata": {},
   "outputs": [
    {
     "data": {
      "text/plain": [
       "vin             0\n",
       "price           0\n",
       "miles           0\n",
       "year            0\n",
       "make            0\n",
       "model           0\n",
       "body_type       0\n",
       "vehicle_type    0\n",
       "drivetrain      0\n",
       "transmission    0\n",
       "fuel_type       0\n",
       "engine_size     0\n",
       "city            0\n",
       "state           0\n",
       "zip             0\n",
       "dtype: int64"
      ]
     },
     "execution_count": 12,
     "metadata": {},
     "output_type": "execute_result"
    }
   ],
   "source": [
    "df_used.isnull().sum()"
   ]
  },
  {
   "cell_type": "markdown",
   "id": "8836d06c",
   "metadata": {},
   "source": [
    "The Vehicle Identification Number (VIN) is a unique identifier for each individual car. We will check to see if duplicates of the same car are listed "
   ]
  },
  {
   "cell_type": "code",
   "execution_count": 13,
   "id": "0baedd91",
   "metadata": {},
   "outputs": [
    {
     "data": {
      "text/html": [
       "<div>\n",
       "<style scoped>\n",
       "    .dataframe tbody tr th:only-of-type {\n",
       "        vertical-align: middle;\n",
       "    }\n",
       "\n",
       "    .dataframe tbody tr th {\n",
       "        vertical-align: top;\n",
       "    }\n",
       "\n",
       "    .dataframe thead th {\n",
       "        text-align: right;\n",
       "    }\n",
       "</style>\n",
       "<table border=\"1\" class=\"dataframe\">\n",
       "  <thead>\n",
       "    <tr style=\"text-align: right;\">\n",
       "      <th></th>\n",
       "      <th>vin</th>\n",
       "      <th>price</th>\n",
       "      <th>miles</th>\n",
       "      <th>year</th>\n",
       "      <th>make</th>\n",
       "      <th>model</th>\n",
       "      <th>body_type</th>\n",
       "      <th>vehicle_type</th>\n",
       "      <th>drivetrain</th>\n",
       "      <th>transmission</th>\n",
       "      <th>fuel_type</th>\n",
       "      <th>engine_size</th>\n",
       "      <th>city</th>\n",
       "      <th>state</th>\n",
       "      <th>zip</th>\n",
       "    </tr>\n",
       "  </thead>\n",
       "  <tbody>\n",
       "    <tr>\n",
       "      <th>0</th>\n",
       "      <td>1GCWGFCF3F1284719</td>\n",
       "      <td>20998.0</td>\n",
       "      <td>115879.0</td>\n",
       "      <td>2015.0</td>\n",
       "      <td>Chevrolet</td>\n",
       "      <td>Express Cargo</td>\n",
       "      <td>Cargo Van</td>\n",
       "      <td>Truck</td>\n",
       "      <td>RWD</td>\n",
       "      <td>Automatic</td>\n",
       "      <td>E85 / Unleaded</td>\n",
       "      <td>4.8</td>\n",
       "      <td>Ellicott City</td>\n",
       "      <td>MD</td>\n",
       "      <td>21043</td>\n",
       "    </tr>\n",
       "    <tr>\n",
       "      <th>1</th>\n",
       "      <td>WBY7Z8C59JVB87514</td>\n",
       "      <td>27921.0</td>\n",
       "      <td>7339.0</td>\n",
       "      <td>2018.0</td>\n",
       "      <td>BMW</td>\n",
       "      <td>i3</td>\n",
       "      <td>Hatchback</td>\n",
       "      <td>Car</td>\n",
       "      <td>RWD</td>\n",
       "      <td>Automatic</td>\n",
       "      <td>Electric / Premium Unleaded</td>\n",
       "      <td>0.6</td>\n",
       "      <td>Pompano Beach</td>\n",
       "      <td>FL</td>\n",
       "      <td>33064</td>\n",
       "    </tr>\n",
       "    <tr>\n",
       "      <th>2</th>\n",
       "      <td>ML32F4FJ2JHF10325</td>\n",
       "      <td>11055.0</td>\n",
       "      <td>39798.0</td>\n",
       "      <td>2018.0</td>\n",
       "      <td>Mitsubishi</td>\n",
       "      <td>Mirage G4</td>\n",
       "      <td>Sedan</td>\n",
       "      <td>Car</td>\n",
       "      <td>FWD</td>\n",
       "      <td>Automatic</td>\n",
       "      <td>Unleaded</td>\n",
       "      <td>1.2</td>\n",
       "      <td>West Bend</td>\n",
       "      <td>WI</td>\n",
       "      <td>53095</td>\n",
       "    </tr>\n",
       "    <tr>\n",
       "      <th>3</th>\n",
       "      <td>1GCPTEE15K1291189</td>\n",
       "      <td>52997.0</td>\n",
       "      <td>28568.0</td>\n",
       "      <td>2019.0</td>\n",
       "      <td>Chevrolet</td>\n",
       "      <td>Colorado</td>\n",
       "      <td>Pickup</td>\n",
       "      <td>Truck</td>\n",
       "      <td>4WD</td>\n",
       "      <td>Automatic</td>\n",
       "      <td>Diesel</td>\n",
       "      <td>2.8</td>\n",
       "      <td>Layton</td>\n",
       "      <td>UT</td>\n",
       "      <td>84041</td>\n",
       "    </tr>\n",
       "    <tr>\n",
       "      <th>6</th>\n",
       "      <td>1B7HC16Y8YS543285</td>\n",
       "      <td>3995.0</td>\n",
       "      <td>137537.0</td>\n",
       "      <td>2000.0</td>\n",
       "      <td>Dodge</td>\n",
       "      <td>Ram Pickup</td>\n",
       "      <td>Pickup</td>\n",
       "      <td>Truck</td>\n",
       "      <td>RWD</td>\n",
       "      <td>Manual</td>\n",
       "      <td>Unleaded</td>\n",
       "      <td>5.2</td>\n",
       "      <td>Fremont</td>\n",
       "      <td>OH</td>\n",
       "      <td>43420</td>\n",
       "    </tr>\n",
       "    <tr>\n",
       "      <th>...</th>\n",
       "      <td>...</td>\n",
       "      <td>...</td>\n",
       "      <td>...</td>\n",
       "      <td>...</td>\n",
       "      <td>...</td>\n",
       "      <td>...</td>\n",
       "      <td>...</td>\n",
       "      <td>...</td>\n",
       "      <td>...</td>\n",
       "      <td>...</td>\n",
       "      <td>...</td>\n",
       "      <td>...</td>\n",
       "      <td>...</td>\n",
       "      <td>...</td>\n",
       "      <td>...</td>\n",
       "    </tr>\n",
       "    <tr>\n",
       "      <th>2499986</th>\n",
       "      <td>19XFB2F84CE372899</td>\n",
       "      <td>12990.0</td>\n",
       "      <td>91941.0</td>\n",
       "      <td>2012.0</td>\n",
       "      <td>Honda</td>\n",
       "      <td>Civic</td>\n",
       "      <td>Sedan</td>\n",
       "      <td>Car</td>\n",
       "      <td>FWD</td>\n",
       "      <td>Automatic</td>\n",
       "      <td>Unleaded</td>\n",
       "      <td>1.8</td>\n",
       "      <td>Pomona</td>\n",
       "      <td>CA</td>\n",
       "      <td>91768</td>\n",
       "    </tr>\n",
       "    <tr>\n",
       "      <th>2499990</th>\n",
       "      <td>19XFB2F5XFE701616</td>\n",
       "      <td>14988.0</td>\n",
       "      <td>59075.0</td>\n",
       "      <td>2015.0</td>\n",
       "      <td>Honda</td>\n",
       "      <td>Civic</td>\n",
       "      <td>Sedan</td>\n",
       "      <td>Car</td>\n",
       "      <td>FWD</td>\n",
       "      <td>Automatic</td>\n",
       "      <td>Unleaded</td>\n",
       "      <td>1.8</td>\n",
       "      <td>Westport</td>\n",
       "      <td>MA</td>\n",
       "      <td>02790</td>\n",
       "    </tr>\n",
       "    <tr>\n",
       "      <th>2499994</th>\n",
       "      <td>2HGFA1F62BH541849</td>\n",
       "      <td>6995.0</td>\n",
       "      <td>195369.0</td>\n",
       "      <td>2011.0</td>\n",
       "      <td>Honda</td>\n",
       "      <td>Civic</td>\n",
       "      <td>Sedan</td>\n",
       "      <td>Car</td>\n",
       "      <td>FWD</td>\n",
       "      <td>Automatic</td>\n",
       "      <td>Unleaded</td>\n",
       "      <td>1.8</td>\n",
       "      <td>Medford</td>\n",
       "      <td>OR</td>\n",
       "      <td>97501</td>\n",
       "    </tr>\n",
       "    <tr>\n",
       "      <th>2499995</th>\n",
       "      <td>2HGFA16828H532613</td>\n",
       "      <td>6995.0</td>\n",
       "      <td>107394.0</td>\n",
       "      <td>2008.0</td>\n",
       "      <td>Honda</td>\n",
       "      <td>Civic</td>\n",
       "      <td>Sedan</td>\n",
       "      <td>Car</td>\n",
       "      <td>FWD</td>\n",
       "      <td>Automatic</td>\n",
       "      <td>Unleaded</td>\n",
       "      <td>1.8</td>\n",
       "      <td>Lowell</td>\n",
       "      <td>MA</td>\n",
       "      <td>01852</td>\n",
       "    </tr>\n",
       "    <tr>\n",
       "      <th>2499999</th>\n",
       "      <td>19XFB2F81FE074573</td>\n",
       "      <td>14299.0</td>\n",
       "      <td>70424.0</td>\n",
       "      <td>2015.0</td>\n",
       "      <td>Honda</td>\n",
       "      <td>Civic</td>\n",
       "      <td>Sedan</td>\n",
       "      <td>Car</td>\n",
       "      <td>FWD</td>\n",
       "      <td>Automatic</td>\n",
       "      <td>Unleaded</td>\n",
       "      <td>1.8</td>\n",
       "      <td>Houston</td>\n",
       "      <td>TX</td>\n",
       "      <td>77042</td>\n",
       "    </tr>\n",
       "  </tbody>\n",
       "</table>\n",
       "<p>1071814 rows × 15 columns</p>\n",
       "</div>"
      ],
      "text/plain": [
       "                       vin    price     miles    year        make  \\\n",
       "0        1GCWGFCF3F1284719  20998.0  115879.0  2015.0   Chevrolet   \n",
       "1        WBY7Z8C59JVB87514  27921.0    7339.0  2018.0         BMW   \n",
       "2        ML32F4FJ2JHF10325  11055.0   39798.0  2018.0  Mitsubishi   \n",
       "3        1GCPTEE15K1291189  52997.0   28568.0  2019.0   Chevrolet   \n",
       "6        1B7HC16Y8YS543285   3995.0  137537.0  2000.0       Dodge   \n",
       "...                    ...      ...       ...     ...         ...   \n",
       "2499986  19XFB2F84CE372899  12990.0   91941.0  2012.0       Honda   \n",
       "2499990  19XFB2F5XFE701616  14988.0   59075.0  2015.0       Honda   \n",
       "2499994  2HGFA1F62BH541849   6995.0  195369.0  2011.0       Honda   \n",
       "2499995  2HGFA16828H532613   6995.0  107394.0  2008.0       Honda   \n",
       "2499999  19XFB2F81FE074573  14299.0   70424.0  2015.0       Honda   \n",
       "\n",
       "                 model  body_type vehicle_type drivetrain transmission  \\\n",
       "0        Express Cargo  Cargo Van        Truck        RWD    Automatic   \n",
       "1                   i3  Hatchback          Car        RWD    Automatic   \n",
       "2            Mirage G4      Sedan          Car        FWD    Automatic   \n",
       "3             Colorado     Pickup        Truck        4WD    Automatic   \n",
       "6           Ram Pickup     Pickup        Truck        RWD       Manual   \n",
       "...                ...        ...          ...        ...          ...   \n",
       "2499986          Civic      Sedan          Car        FWD    Automatic   \n",
       "2499990          Civic      Sedan          Car        FWD    Automatic   \n",
       "2499994          Civic      Sedan          Car        FWD    Automatic   \n",
       "2499995          Civic      Sedan          Car        FWD    Automatic   \n",
       "2499999          Civic      Sedan          Car        FWD    Automatic   \n",
       "\n",
       "                           fuel_type  engine_size           city state    zip  \n",
       "0                     E85 / Unleaded          4.8  Ellicott City    MD  21043  \n",
       "1        Electric / Premium Unleaded          0.6  Pompano Beach    FL  33064  \n",
       "2                           Unleaded          1.2      West Bend    WI  53095  \n",
       "3                             Diesel          2.8         Layton    UT  84041  \n",
       "6                           Unleaded          5.2        Fremont    OH  43420  \n",
       "...                              ...          ...            ...   ...    ...  \n",
       "2499986                     Unleaded          1.8         Pomona    CA  91768  \n",
       "2499990                     Unleaded          1.8       Westport    MA  02790  \n",
       "2499994                     Unleaded          1.8        Medford    OR  97501  \n",
       "2499995                     Unleaded          1.8         Lowell    MA  01852  \n",
       "2499999                     Unleaded          1.8        Houston    TX  77042  \n",
       "\n",
       "[1071814 rows x 15 columns]"
      ]
     },
     "execution_count": 13,
     "metadata": {},
     "output_type": "execute_result"
    }
   ],
   "source": [
    "df_used.drop_duplicates(subset=['vin'],keep='first')"
   ]
  },
  {
   "cell_type": "code",
   "execution_count": 14,
   "id": "ed2c4583",
   "metadata": {},
   "outputs": [
    {
     "data": {
      "text/plain": [
       "(2213774, 15)"
      ]
     },
     "execution_count": 14,
     "metadata": {},
     "output_type": "execute_result"
    }
   ],
   "source": [
    "df_used.shape"
   ]
  },
  {
   "cell_type": "code",
   "execution_count": 15,
   "id": "0a2b7012",
   "metadata": {},
   "outputs": [
    {
     "data": {
      "text/plain": [
       "vin              object\n",
       "price           float64\n",
       "miles           float64\n",
       "year            float64\n",
       "make             object\n",
       "model            object\n",
       "body_type        object\n",
       "vehicle_type     object\n",
       "drivetrain       object\n",
       "transmission     object\n",
       "fuel_type        object\n",
       "engine_size     float64\n",
       "city             object\n",
       "state            object\n",
       "zip              object\n",
       "dtype: object"
      ]
     },
     "execution_count": 15,
     "metadata": {},
     "output_type": "execute_result"
    }
   ],
   "source": [
    "df_used.dtypes"
   ]
  },
  {
   "cell_type": "code",
   "execution_count": 16,
   "id": "14df73e4",
   "metadata": {},
   "outputs": [],
   "source": [
    "df_used['year'] = df_used['year'].astype(int)"
   ]
  },
  {
   "cell_type": "code",
   "execution_count": 17,
   "id": "67fab0d9",
   "metadata": {},
   "outputs": [
    {
     "data": {
      "text/plain": [
       "vin              object\n",
       "price           float64\n",
       "miles           float64\n",
       "year              int64\n",
       "make             object\n",
       "model            object\n",
       "body_type        object\n",
       "vehicle_type     object\n",
       "drivetrain       object\n",
       "transmission     object\n",
       "fuel_type        object\n",
       "engine_size     float64\n",
       "city             object\n",
       "state            object\n",
       "zip              object\n",
       "dtype: object"
      ]
     },
     "execution_count": 17,
     "metadata": {},
     "output_type": "execute_result"
    }
   ],
   "source": [
    "df_used.dtypes"
   ]
  },
  {
   "cell_type": "code",
   "execution_count": 18,
   "id": "a84645d8",
   "metadata": {},
   "outputs": [
    {
     "data": {
      "text/plain": [
       "1141960"
      ]
     },
     "execution_count": 18,
     "metadata": {},
     "output_type": "execute_result"
    }
   ],
   "source": [
    "df_used['vin'].duplicated().sum()"
   ]
  },
  {
   "cell_type": "code",
   "execution_count": 19,
   "id": "490bb415",
   "metadata": {},
   "outputs": [
    {
     "data": {
      "text/plain": [
       "1141960"
      ]
     },
     "execution_count": 19,
     "metadata": {},
     "output_type": "execute_result"
    }
   ],
   "source": [
    "df_used.vin.duplicated().sum()"
   ]
  },
  {
   "cell_type": "code",
   "execution_count": 20,
   "id": "810daa9e",
   "metadata": {},
   "outputs": [
    {
     "data": {
      "text/plain": [
       "1071814"
      ]
     },
     "execution_count": 20,
     "metadata": {},
     "output_type": "execute_result"
    }
   ],
   "source": [
    "(~df_used.vin.duplicated()).sum()"
   ]
  },
  {
   "cell_type": "code",
   "execution_count": 21,
   "id": "deedadf0",
   "metadata": {},
   "outputs": [
    {
     "data": {
      "text/html": [
       "<div>\n",
       "<style scoped>\n",
       "    .dataframe tbody tr th:only-of-type {\n",
       "        vertical-align: middle;\n",
       "    }\n",
       "\n",
       "    .dataframe tbody tr th {\n",
       "        vertical-align: top;\n",
       "    }\n",
       "\n",
       "    .dataframe thead th {\n",
       "        text-align: right;\n",
       "    }\n",
       "</style>\n",
       "<table border=\"1\" class=\"dataframe\">\n",
       "  <thead>\n",
       "    <tr style=\"text-align: right;\">\n",
       "      <th></th>\n",
       "      <th>vin</th>\n",
       "      <th>price</th>\n",
       "      <th>miles</th>\n",
       "      <th>year</th>\n",
       "      <th>make</th>\n",
       "      <th>model</th>\n",
       "      <th>body_type</th>\n",
       "      <th>vehicle_type</th>\n",
       "      <th>drivetrain</th>\n",
       "      <th>transmission</th>\n",
       "      <th>fuel_type</th>\n",
       "      <th>engine_size</th>\n",
       "      <th>city</th>\n",
       "      <th>state</th>\n",
       "      <th>zip</th>\n",
       "    </tr>\n",
       "  </thead>\n",
       "  <tbody>\n",
       "    <tr>\n",
       "      <th>52</th>\n",
       "      <td>1B7HC16Y8YS543285</td>\n",
       "      <td>3995.0</td>\n",
       "      <td>137537.0</td>\n",
       "      <td>2000</td>\n",
       "      <td>Dodge</td>\n",
       "      <td>Ram Pickup</td>\n",
       "      <td>Pickup</td>\n",
       "      <td>Truck</td>\n",
       "      <td>RWD</td>\n",
       "      <td>Manual</td>\n",
       "      <td>Unleaded</td>\n",
       "      <td>5.2</td>\n",
       "      <td>Fremont</td>\n",
       "      <td>OH</td>\n",
       "      <td>43420</td>\n",
       "    </tr>\n",
       "    <tr>\n",
       "      <th>1307</th>\n",
       "      <td>WDDUG8FB2HA324924</td>\n",
       "      <td>68822.0</td>\n",
       "      <td>30109.0</td>\n",
       "      <td>2017</td>\n",
       "      <td>Mercedes-Benz</td>\n",
       "      <td>S-Class</td>\n",
       "      <td>Sedan</td>\n",
       "      <td>Car</td>\n",
       "      <td>4WD</td>\n",
       "      <td>Automatic</td>\n",
       "      <td>Premium Unleaded</td>\n",
       "      <td>4.7</td>\n",
       "      <td>Sycamore</td>\n",
       "      <td>IL</td>\n",
       "      <td>60178</td>\n",
       "    </tr>\n",
       "    <tr>\n",
       "      <th>1597</th>\n",
       "      <td>ZAM45VMA3H0194436</td>\n",
       "      <td>89895.0</td>\n",
       "      <td>17791.0</td>\n",
       "      <td>2017</td>\n",
       "      <td>Maserati</td>\n",
       "      <td>GranTurismo</td>\n",
       "      <td>Convertible</td>\n",
       "      <td>Car</td>\n",
       "      <td>RWD</td>\n",
       "      <td>Automatic</td>\n",
       "      <td>Premium Unleaded</td>\n",
       "      <td>4.7</td>\n",
       "      <td>Great Neck</td>\n",
       "      <td>NY</td>\n",
       "      <td>11021</td>\n",
       "    </tr>\n",
       "    <tr>\n",
       "      <th>1638</th>\n",
       "      <td>3C6TR5EJ6JG222709</td>\n",
       "      <td>51995.0</td>\n",
       "      <td>69156.0</td>\n",
       "      <td>2018</td>\n",
       "      <td>RAM</td>\n",
       "      <td>Ram 2500 Pickup</td>\n",
       "      <td>Pickup</td>\n",
       "      <td>Truck</td>\n",
       "      <td>4WD</td>\n",
       "      <td>Automatic</td>\n",
       "      <td>Unleaded</td>\n",
       "      <td>6.4</td>\n",
       "      <td>Corpus Christi</td>\n",
       "      <td>TX</td>\n",
       "      <td>78415</td>\n",
       "    </tr>\n",
       "    <tr>\n",
       "      <th>1641</th>\n",
       "      <td>1GNDS13S452197465</td>\n",
       "      <td>4911.0</td>\n",
       "      <td>160000.0</td>\n",
       "      <td>2005</td>\n",
       "      <td>Chevrolet</td>\n",
       "      <td>TrailBlazer</td>\n",
       "      <td>SUV</td>\n",
       "      <td>Truck</td>\n",
       "      <td>RWD</td>\n",
       "      <td>Automatic</td>\n",
       "      <td>Unleaded</td>\n",
       "      <td>4.2</td>\n",
       "      <td>Jackson</td>\n",
       "      <td>TN</td>\n",
       "      <td>38305</td>\n",
       "    </tr>\n",
       "    <tr>\n",
       "      <th>...</th>\n",
       "      <td>...</td>\n",
       "      <td>...</td>\n",
       "      <td>...</td>\n",
       "      <td>...</td>\n",
       "      <td>...</td>\n",
       "      <td>...</td>\n",
       "      <td>...</td>\n",
       "      <td>...</td>\n",
       "      <td>...</td>\n",
       "      <td>...</td>\n",
       "      <td>...</td>\n",
       "      <td>...</td>\n",
       "      <td>...</td>\n",
       "      <td>...</td>\n",
       "      <td>...</td>\n",
       "    </tr>\n",
       "    <tr>\n",
       "      <th>2499978</th>\n",
       "      <td>2HGFB2F57CH557993</td>\n",
       "      <td>10350.0</td>\n",
       "      <td>62529.0</td>\n",
       "      <td>2012</td>\n",
       "      <td>Honda</td>\n",
       "      <td>Civic</td>\n",
       "      <td>Sedan</td>\n",
       "      <td>Car</td>\n",
       "      <td>FWD</td>\n",
       "      <td>Automatic</td>\n",
       "      <td>Unleaded</td>\n",
       "      <td>1.8</td>\n",
       "      <td>Wilkes-Barre</td>\n",
       "      <td>PA</td>\n",
       "      <td>18702</td>\n",
       "    </tr>\n",
       "    <tr>\n",
       "      <th>2499979</th>\n",
       "      <td>2HGFA1F91BH521473</td>\n",
       "      <td>11800.0</td>\n",
       "      <td>62000.0</td>\n",
       "      <td>2011</td>\n",
       "      <td>Honda</td>\n",
       "      <td>Civic</td>\n",
       "      <td>Sedan</td>\n",
       "      <td>Car</td>\n",
       "      <td>FWD</td>\n",
       "      <td>Automatic</td>\n",
       "      <td>Unleaded</td>\n",
       "      <td>1.8</td>\n",
       "      <td>Auburn</td>\n",
       "      <td>NY</td>\n",
       "      <td>13021</td>\n",
       "    </tr>\n",
       "    <tr>\n",
       "      <th>2499982</th>\n",
       "      <td>2HGFB2E54FH534547</td>\n",
       "      <td>11690.0</td>\n",
       "      <td>84772.0</td>\n",
       "      <td>2015</td>\n",
       "      <td>Honda</td>\n",
       "      <td>Civic</td>\n",
       "      <td>Sedan</td>\n",
       "      <td>Car</td>\n",
       "      <td>FWD</td>\n",
       "      <td>Manual</td>\n",
       "      <td>Unleaded</td>\n",
       "      <td>1.8</td>\n",
       "      <td>Buford</td>\n",
       "      <td>GA</td>\n",
       "      <td>30519</td>\n",
       "    </tr>\n",
       "    <tr>\n",
       "      <th>2499985</th>\n",
       "      <td>2HGFB2F53FH552309</td>\n",
       "      <td>14791.0</td>\n",
       "      <td>46623.0</td>\n",
       "      <td>2015</td>\n",
       "      <td>Honda</td>\n",
       "      <td>Civic</td>\n",
       "      <td>Sedan</td>\n",
       "      <td>Car</td>\n",
       "      <td>FWD</td>\n",
       "      <td>Automatic</td>\n",
       "      <td>Unleaded</td>\n",
       "      <td>1.8</td>\n",
       "      <td>Wilmington</td>\n",
       "      <td>NC</td>\n",
       "      <td>28405</td>\n",
       "    </tr>\n",
       "    <tr>\n",
       "      <th>2499997</th>\n",
       "      <td>2HGFA1F51AH545915</td>\n",
       "      <td>5802.0</td>\n",
       "      <td>153220.0</td>\n",
       "      <td>2010</td>\n",
       "      <td>Honda</td>\n",
       "      <td>Civic</td>\n",
       "      <td>Sedan</td>\n",
       "      <td>Car</td>\n",
       "      <td>FWD</td>\n",
       "      <td>Automatic</td>\n",
       "      <td>Unleaded</td>\n",
       "      <td>1.8</td>\n",
       "      <td>Heath</td>\n",
       "      <td>OH</td>\n",
       "      <td>43056</td>\n",
       "    </tr>\n",
       "  </tbody>\n",
       "</table>\n",
       "<p>417352 rows × 15 columns</p>\n",
       "</div>"
      ],
      "text/plain": [
       "                       vin    price     miles  year           make  \\\n",
       "52       1B7HC16Y8YS543285   3995.0  137537.0  2000          Dodge   \n",
       "1307     WDDUG8FB2HA324924  68822.0   30109.0  2017  Mercedes-Benz   \n",
       "1597     ZAM45VMA3H0194436  89895.0   17791.0  2017       Maserati   \n",
       "1638     3C6TR5EJ6JG222709  51995.0   69156.0  2018            RAM   \n",
       "1641     1GNDS13S452197465   4911.0  160000.0  2005      Chevrolet   \n",
       "...                    ...      ...       ...   ...            ...   \n",
       "2499978  2HGFB2F57CH557993  10350.0   62529.0  2012          Honda   \n",
       "2499979  2HGFA1F91BH521473  11800.0   62000.0  2011          Honda   \n",
       "2499982  2HGFB2E54FH534547  11690.0   84772.0  2015          Honda   \n",
       "2499985  2HGFB2F53FH552309  14791.0   46623.0  2015          Honda   \n",
       "2499997  2HGFA1F51AH545915   5802.0  153220.0  2010          Honda   \n",
       "\n",
       "                   model    body_type vehicle_type drivetrain transmission  \\\n",
       "52            Ram Pickup       Pickup        Truck        RWD       Manual   \n",
       "1307             S-Class        Sedan          Car        4WD    Automatic   \n",
       "1597         GranTurismo  Convertible          Car        RWD    Automatic   \n",
       "1638     Ram 2500 Pickup       Pickup        Truck        4WD    Automatic   \n",
       "1641         TrailBlazer          SUV        Truck        RWD    Automatic   \n",
       "...                  ...          ...          ...        ...          ...   \n",
       "2499978            Civic        Sedan          Car        FWD    Automatic   \n",
       "2499979            Civic        Sedan          Car        FWD    Automatic   \n",
       "2499982            Civic        Sedan          Car        FWD       Manual   \n",
       "2499985            Civic        Sedan          Car        FWD    Automatic   \n",
       "2499997            Civic        Sedan          Car        FWD    Automatic   \n",
       "\n",
       "                fuel_type  engine_size            city state    zip  \n",
       "52               Unleaded          5.2         Fremont    OH  43420  \n",
       "1307     Premium Unleaded          4.7        Sycamore    IL  60178  \n",
       "1597     Premium Unleaded          4.7      Great Neck    NY  11021  \n",
       "1638             Unleaded          6.4  Corpus Christi    TX  78415  \n",
       "1641             Unleaded          4.2         Jackson    TN  38305  \n",
       "...                   ...          ...             ...   ...    ...  \n",
       "2499978          Unleaded          1.8    Wilkes-Barre    PA  18702  \n",
       "2499979          Unleaded          1.8          Auburn    NY  13021  \n",
       "2499982          Unleaded          1.8          Buford    GA  30519  \n",
       "2499985          Unleaded          1.8      Wilmington    NC  28405  \n",
       "2499997          Unleaded          1.8           Heath    OH  43056  \n",
       "\n",
       "[417352 rows x 15 columns]"
      ]
     },
     "execution_count": 21,
     "metadata": {},
     "output_type": "execute_result"
    }
   ],
   "source": [
    "df_used.loc[df_used.duplicated(), :]"
   ]
  },
  {
   "cell_type": "code",
   "execution_count": 22,
   "id": "40c98b07",
   "metadata": {},
   "outputs": [],
   "source": [
    "df_used.vin.drop_duplicates(inplace=True)"
   ]
  },
  {
   "cell_type": "code",
   "execution_count": 23,
   "id": "72b5cb8c",
   "metadata": {},
   "outputs": [
    {
     "data": {
      "text/plain": [
       "1141960"
      ]
     },
     "execution_count": 23,
     "metadata": {},
     "output_type": "execute_result"
    }
   ],
   "source": [
    "df_used.vin.duplicated().sum()"
   ]
  },
  {
   "cell_type": "code",
   "execution_count": 24,
   "id": "d95c4a60",
   "metadata": {},
   "outputs": [],
   "source": [
    "df_used.drop_duplicates(subset=['vin'], inplace=True)"
   ]
  },
  {
   "cell_type": "code",
   "execution_count": 25,
   "id": "2fa10c39",
   "metadata": {},
   "outputs": [
    {
     "data": {
      "text/plain": [
       "0"
      ]
     },
     "execution_count": 25,
     "metadata": {},
     "output_type": "execute_result"
    }
   ],
   "source": [
    "df_used.vin.duplicated().sum()"
   ]
  },
  {
   "cell_type": "code",
   "execution_count": 26,
   "id": "ed0b7755",
   "metadata": {},
   "outputs": [
    {
     "data": {
      "text/plain": [
       "(1071814, 15)"
      ]
     },
     "execution_count": 26,
     "metadata": {},
     "output_type": "execute_result"
    }
   ],
   "source": [
    "df_used.shape"
   ]
  },
  {
   "cell_type": "code",
   "execution_count": 27,
   "id": "2c55ecf6",
   "metadata": {},
   "outputs": [],
   "source": [
    "df_used = df_used.loc[(df_used['year'] > 2009) & (df_used['year'] < 2022) ]"
   ]
  },
  {
   "cell_type": "code",
   "execution_count": 28,
   "id": "cef7791a",
   "metadata": {},
   "outputs": [
    {
     "data": {
      "text/plain": [
       "(995980, 15)"
      ]
     },
     "execution_count": 28,
     "metadata": {},
     "output_type": "execute_result"
    }
   ],
   "source": [
    "df_used.shape"
   ]
  },
  {
   "cell_type": "code",
   "execution_count": 38,
   "id": "75802d17",
   "metadata": {},
   "outputs": [
    {
     "name": "stdout",
     "output_type": "stream",
     "text": [
      "[2010 2011 2012 2013 2014 2015 2016 2017 2018 2019 2020 2021]\n"
     ]
    }
   ],
   "source": [
    "range_yrs = df_used.year.unique()\n",
    "range_yrs.sort()\n",
    "print(range_yrs)"
   ]
  },
  {
   "cell_type": "code",
   "execution_count": 37,
   "id": "93b6b0e3",
   "metadata": {},
   "outputs": [],
   "source": []
  },
  {
   "cell_type": "code",
   "execution_count": null,
   "id": "af42f7d7",
   "metadata": {},
   "outputs": [],
   "source": []
  }
 ],
 "metadata": {
  "kernelspec": {
   "display_name": "Python 3 (ipykernel)",
   "language": "python",
   "name": "python3"
  },
  "language_info": {
   "codemirror_mode": {
    "name": "ipython",
    "version": 3
   },
   "file_extension": ".py",
   "mimetype": "text/x-python",
   "name": "python",
   "nbconvert_exporter": "python",
   "pygments_lexer": "ipython3",
   "version": "3.9.7"
  }
 },
 "nbformat": 4,
 "nbformat_minor": 5
}
