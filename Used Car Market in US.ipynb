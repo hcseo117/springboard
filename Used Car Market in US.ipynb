{
 "cells": [
  {
   "cell_type": "markdown",
   "id": "30370624",
   "metadata": {},
   "source": [
    "This Project we analyze a dataset from MarketCheck which holds information about the Used Car Market in the US.\n",
    "\n",
    "Aggregated from over 65,000 dealer websites, the dataset contains ~7 million rows and 21 columns.\n",
    "\n",
    "We'll be making use of ~2.5 million rows with 15 columns to conduct our analysis\n",
    "\n",
    "Through the analysis, we aim to:\n",
    "\n",
    "1. Get to know the 'Used Car Market in the US'.\n",
    "\n",
    "2. Understand the Used Car Market for newer used cars from years 2010-2021.\n",
    "\n",
    "3. Find insights and value by answering questions to help find the best deal for a car."
   ]
  },
  {
   "cell_type": "code",
   "execution_count": 1,
   "id": "47fd7219",
   "metadata": {},
   "outputs": [],
   "source": [
    "# IMPORT LIBRARIES\n",
    "import matplotlib as mpl\n",
    "import numpy as np\n",
    "import matplotlib.pyplot as plt \n",
    "%matplotlib inline\n",
    "import seaborn as sns\n",
    "import pandas as pd\n",
    "import statsmodels.api as sm\n"
   ]
  },
  {
   "cell_type": "code",
   "execution_count": 2,
   "id": "bd8a49b6",
   "metadata": {},
   "outputs": [],
   "source": [
    "# IMPORT DATASET\n",
    "df_used = pd.read_csv('us-dealers-used.csv',  low_memory=False, nrows=2500000)"
   ]
  },
  {
   "cell_type": "code",
   "execution_count": 3,
   "id": "d5480c3e",
   "metadata": {},
   "outputs": [
    {
     "data": {
      "text/plain": [
       "(2500000, 21)"
      ]
     },
     "execution_count": 3,
     "metadata": {},
     "output_type": "execute_result"
    }
   ],
   "source": [
    "# show the number of rows and columns used for analysis\n",
    "df_used.shape"
   ]
  },
  {
   "cell_type": "code",
   "execution_count": 4,
   "id": "d80bead8",
   "metadata": {},
   "outputs": [
    {
     "data": {
      "text/html": [
       "<div>\n",
       "<style scoped>\n",
       "    .dataframe tbody tr th:only-of-type {\n",
       "        vertical-align: middle;\n",
       "    }\n",
       "\n",
       "    .dataframe tbody tr th {\n",
       "        vertical-align: top;\n",
       "    }\n",
       "\n",
       "    .dataframe thead th {\n",
       "        text-align: right;\n",
       "    }\n",
       "</style>\n",
       "<table border=\"1\" class=\"dataframe\">\n",
       "  <thead>\n",
       "    <tr style=\"text-align: right;\">\n",
       "      <th></th>\n",
       "      <th>id</th>\n",
       "      <th>vin</th>\n",
       "      <th>price</th>\n",
       "      <th>miles</th>\n",
       "      <th>stock_no</th>\n",
       "      <th>year</th>\n",
       "      <th>make</th>\n",
       "      <th>model</th>\n",
       "      <th>trim</th>\n",
       "      <th>body_type</th>\n",
       "      <th>...</th>\n",
       "      <th>drivetrain</th>\n",
       "      <th>transmission</th>\n",
       "      <th>fuel_type</th>\n",
       "      <th>engine_size</th>\n",
       "      <th>engine_block</th>\n",
       "      <th>seller_name</th>\n",
       "      <th>street</th>\n",
       "      <th>city</th>\n",
       "      <th>state</th>\n",
       "      <th>zip</th>\n",
       "    </tr>\n",
       "  </thead>\n",
       "  <tbody>\n",
       "    <tr>\n",
       "      <th>0</th>\n",
       "      <td>38b2f52e-8f5d</td>\n",
       "      <td>1GCWGFCF3F1284719</td>\n",
       "      <td>20998.0</td>\n",
       "      <td>115879.0</td>\n",
       "      <td>W1T503168C</td>\n",
       "      <td>2015.0</td>\n",
       "      <td>Chevrolet</td>\n",
       "      <td>Express Cargo</td>\n",
       "      <td>Work Van</td>\n",
       "      <td>Cargo Van</td>\n",
       "      <td>...</td>\n",
       "      <td>RWD</td>\n",
       "      <td>Automatic</td>\n",
       "      <td>E85 / Unleaded</td>\n",
       "      <td>4.8</td>\n",
       "      <td>V</td>\n",
       "      <td>nissan ellicott city</td>\n",
       "      <td>8569 Baltimore National Pike</td>\n",
       "      <td>Ellicott City</td>\n",
       "      <td>MD</td>\n",
       "      <td>21043</td>\n",
       "    </tr>\n",
       "    <tr>\n",
       "      <th>1</th>\n",
       "      <td>97ba4955-ccf0</td>\n",
       "      <td>WBY7Z8C59JVB87514</td>\n",
       "      <td>27921.0</td>\n",
       "      <td>7339.0</td>\n",
       "      <td>P33243</td>\n",
       "      <td>2018.0</td>\n",
       "      <td>BMW</td>\n",
       "      <td>i3</td>\n",
       "      <td>s</td>\n",
       "      <td>Hatchback</td>\n",
       "      <td>...</td>\n",
       "      <td>RWD</td>\n",
       "      <td>Automatic</td>\n",
       "      <td>Electric / Premium Unleaded</td>\n",
       "      <td>0.6</td>\n",
       "      <td>I</td>\n",
       "      <td>hendrick honda pompano beach</td>\n",
       "      <td>5381 N Federal Highway</td>\n",
       "      <td>Pompano Beach</td>\n",
       "      <td>FL</td>\n",
       "      <td>33064</td>\n",
       "    </tr>\n",
       "    <tr>\n",
       "      <th>2</th>\n",
       "      <td>be1da9fd-0f34</td>\n",
       "      <td>ML32F4FJ2JHF10325</td>\n",
       "      <td>11055.0</td>\n",
       "      <td>39798.0</td>\n",
       "      <td>WM2091A</td>\n",
       "      <td>2018.0</td>\n",
       "      <td>Mitsubishi</td>\n",
       "      <td>Mirage G4</td>\n",
       "      <td>SE</td>\n",
       "      <td>Sedan</td>\n",
       "      <td>...</td>\n",
       "      <td>FWD</td>\n",
       "      <td>Automatic</td>\n",
       "      <td>Unleaded</td>\n",
       "      <td>1.2</td>\n",
       "      <td>I</td>\n",
       "      <td>russ darrow toyota</td>\n",
       "      <td>2700 West Washington St.</td>\n",
       "      <td>West Bend</td>\n",
       "      <td>WI</td>\n",
       "      <td>53095</td>\n",
       "    </tr>\n",
       "    <tr>\n",
       "      <th>3</th>\n",
       "      <td>84327e45-6cb6</td>\n",
       "      <td>1GCPTEE15K1291189</td>\n",
       "      <td>52997.0</td>\n",
       "      <td>28568.0</td>\n",
       "      <td>9U2Y425A</td>\n",
       "      <td>2019.0</td>\n",
       "      <td>Chevrolet</td>\n",
       "      <td>Colorado</td>\n",
       "      <td>ZR2</td>\n",
       "      <td>Pickup</td>\n",
       "      <td>...</td>\n",
       "      <td>4WD</td>\n",
       "      <td>Automatic</td>\n",
       "      <td>Diesel</td>\n",
       "      <td>2.8</td>\n",
       "      <td>I</td>\n",
       "      <td>young kia</td>\n",
       "      <td>308 North Main Street</td>\n",
       "      <td>Layton</td>\n",
       "      <td>UT</td>\n",
       "      <td>84041</td>\n",
       "    </tr>\n",
       "    <tr>\n",
       "      <th>4</th>\n",
       "      <td>cde691c3-91dd</td>\n",
       "      <td>1G2AL18F087312093</td>\n",
       "      <td>NaN</td>\n",
       "      <td>188485.0</td>\n",
       "      <td>T36625A</td>\n",
       "      <td>2008.0</td>\n",
       "      <td>Pontiac</td>\n",
       "      <td>G5</td>\n",
       "      <td>Base</td>\n",
       "      <td>Coupe</td>\n",
       "      <td>...</td>\n",
       "      <td>FWD</td>\n",
       "      <td>Automatic</td>\n",
       "      <td>Unleaded</td>\n",
       "      <td>2.2</td>\n",
       "      <td>I</td>\n",
       "      <td>pappas toyota</td>\n",
       "      <td>10011 Spencer Rd</td>\n",
       "      <td>Saint Peters</td>\n",
       "      <td>MO</td>\n",
       "      <td>63376</td>\n",
       "    </tr>\n",
       "  </tbody>\n",
       "</table>\n",
       "<p>5 rows × 21 columns</p>\n",
       "</div>"
      ],
      "text/plain": [
       "              id                vin    price     miles    stock_no    year  \\\n",
       "0  38b2f52e-8f5d  1GCWGFCF3F1284719  20998.0  115879.0  W1T503168C  2015.0   \n",
       "1  97ba4955-ccf0  WBY7Z8C59JVB87514  27921.0    7339.0      P33243  2018.0   \n",
       "2  be1da9fd-0f34  ML32F4FJ2JHF10325  11055.0   39798.0     WM2091A  2018.0   \n",
       "3  84327e45-6cb6  1GCPTEE15K1291189  52997.0   28568.0    9U2Y425A  2019.0   \n",
       "4  cde691c3-91dd  1G2AL18F087312093      NaN  188485.0     T36625A  2008.0   \n",
       "\n",
       "         make          model      trim  body_type  ... drivetrain  \\\n",
       "0   Chevrolet  Express Cargo  Work Van  Cargo Van  ...        RWD   \n",
       "1         BMW             i3         s  Hatchback  ...        RWD   \n",
       "2  Mitsubishi      Mirage G4        SE      Sedan  ...        FWD   \n",
       "3   Chevrolet       Colorado       ZR2     Pickup  ...        4WD   \n",
       "4     Pontiac             G5      Base      Coupe  ...        FWD   \n",
       "\n",
       "  transmission                    fuel_type engine_size  engine_block  \\\n",
       "0    Automatic               E85 / Unleaded         4.8             V   \n",
       "1    Automatic  Electric / Premium Unleaded         0.6             I   \n",
       "2    Automatic                     Unleaded         1.2             I   \n",
       "3    Automatic                       Diesel         2.8             I   \n",
       "4    Automatic                     Unleaded         2.2             I   \n",
       "\n",
       "                    seller_name                        street           city  \\\n",
       "0          nissan ellicott city  8569 Baltimore National Pike  Ellicott City   \n",
       "1  hendrick honda pompano beach        5381 N Federal Highway  Pompano Beach   \n",
       "2            russ darrow toyota      2700 West Washington St.      West Bend   \n",
       "3                     young kia         308 North Main Street         Layton   \n",
       "4                 pappas toyota              10011 Spencer Rd   Saint Peters   \n",
       "\n",
       "  state    zip  \n",
       "0    MD  21043  \n",
       "1    FL  33064  \n",
       "2    WI  53095  \n",
       "3    UT  84041  \n",
       "4    MO  63376  \n",
       "\n",
       "[5 rows x 21 columns]"
      ]
     },
     "execution_count": 4,
     "metadata": {},
     "output_type": "execute_result"
    }
   ],
   "source": [
    "df_used.head()"
   ]
  },
  {
   "cell_type": "code",
   "execution_count": 5,
   "id": "b6c1374c",
   "metadata": {},
   "outputs": [
    {
     "data": {
      "text/html": [
       "<div>\n",
       "<style scoped>\n",
       "    .dataframe tbody tr th:only-of-type {\n",
       "        vertical-align: middle;\n",
       "    }\n",
       "\n",
       "    .dataframe tbody tr th {\n",
       "        vertical-align: top;\n",
       "    }\n",
       "\n",
       "    .dataframe thead th {\n",
       "        text-align: right;\n",
       "    }\n",
       "</style>\n",
       "<table border=\"1\" class=\"dataframe\">\n",
       "  <thead>\n",
       "    <tr style=\"text-align: right;\">\n",
       "      <th></th>\n",
       "      <th>price</th>\n",
       "      <th>miles</th>\n",
       "      <th>year</th>\n",
       "      <th>engine_size</th>\n",
       "    </tr>\n",
       "  </thead>\n",
       "  <tbody>\n",
       "    <tr>\n",
       "      <th>count</th>\n",
       "      <td>2270385.000</td>\n",
       "      <td>2474949.000</td>\n",
       "      <td>2499928.000</td>\n",
       "      <td>2448312.000</td>\n",
       "    </tr>\n",
       "    <tr>\n",
       "      <th>mean</th>\n",
       "      <td>27785.537</td>\n",
       "      <td>53168.938</td>\n",
       "      <td>2016.399</td>\n",
       "      <td>2.903</td>\n",
       "    </tr>\n",
       "    <tr>\n",
       "      <th>std</th>\n",
       "      <td>19256.314</td>\n",
       "      <td>45979.902</td>\n",
       "      <td>3.899</td>\n",
       "      <td>1.333</td>\n",
       "    </tr>\n",
       "    <tr>\n",
       "      <th>min</th>\n",
       "      <td>0.000</td>\n",
       "      <td>0.000</td>\n",
       "      <td>1980.000</td>\n",
       "      <td>0.600</td>\n",
       "    </tr>\n",
       "    <tr>\n",
       "      <th>25%</th>\n",
       "      <td>16995.000</td>\n",
       "      <td>21662.000</td>\n",
       "      <td>2015.000</td>\n",
       "      <td>2.000</td>\n",
       "    </tr>\n",
       "    <tr>\n",
       "      <th>50%</th>\n",
       "      <td>23997.000</td>\n",
       "      <td>38629.000</td>\n",
       "      <td>2018.000</td>\n",
       "      <td>2.400</td>\n",
       "    </tr>\n",
       "    <tr>\n",
       "      <th>75%</th>\n",
       "      <td>34900.000</td>\n",
       "      <td>74602.000</td>\n",
       "      <td>2019.000</td>\n",
       "      <td>3.600</td>\n",
       "    </tr>\n",
       "    <tr>\n",
       "      <th>max</th>\n",
       "      <td>1495000.000</td>\n",
       "      <td>2975291.000</td>\n",
       "      <td>2022.000</td>\n",
       "      <td>30.000</td>\n",
       "    </tr>\n",
       "  </tbody>\n",
       "</table>\n",
       "</div>"
      ],
      "text/plain": [
       "             price        miles         year  engine_size\n",
       "count  2270385.000  2474949.000  2499928.000  2448312.000\n",
       "mean     27785.537    53168.938     2016.399        2.903\n",
       "std      19256.314    45979.902        3.899        1.333\n",
       "min          0.000        0.000     1980.000        0.600\n",
       "25%      16995.000    21662.000     2015.000        2.000\n",
       "50%      23997.000    38629.000     2018.000        2.400\n",
       "75%      34900.000    74602.000     2019.000        3.600\n",
       "max    1495000.000  2975291.000     2022.000       30.000"
      ]
     },
     "execution_count": 5,
     "metadata": {},
     "output_type": "execute_result"
    }
   ],
   "source": [
    "df_used.describe().round(3)"
   ]
  },
  {
   "cell_type": "code",
   "execution_count": 6,
   "id": "69c43b02",
   "metadata": {},
   "outputs": [
    {
     "name": "stdout",
     "output_type": "stream",
     "text": [
      "<class 'pandas.core.frame.DataFrame'>\n",
      "RangeIndex: 2500000 entries, 0 to 2499999\n",
      "Data columns (total 21 columns):\n",
      " #   Column        Dtype  \n",
      "---  ------        -----  \n",
      " 0   id            object \n",
      " 1   vin           object \n",
      " 2   price         float64\n",
      " 3   miles         float64\n",
      " 4   stock_no      object \n",
      " 5   year          float64\n",
      " 6   make          object \n",
      " 7   model         object \n",
      " 8   trim          object \n",
      " 9   body_type     object \n",
      " 10  vehicle_type  object \n",
      " 11  drivetrain    object \n",
      " 12  transmission  object \n",
      " 13  fuel_type     object \n",
      " 14  engine_size   float64\n",
      " 15  engine_block  object \n",
      " 16  seller_name   object \n",
      " 17  street        object \n",
      " 18  city          object \n",
      " 19  state         object \n",
      " 20  zip           object \n",
      "dtypes: float64(4), object(17)\n",
      "memory usage: 400.5+ MB\n"
     ]
    }
   ],
   "source": [
    "df_used.info()"
   ]
  },
  {
   "cell_type": "markdown",
   "id": "2df4751e",
   "metadata": {},
   "source": [
    "We will select 15 columns out of the original 21 columns that are relevant for our analysis"
   ]
  },
  {
   "cell_type": "code",
   "execution_count": 7,
   "id": "4e4513f2",
   "metadata": {},
   "outputs": [],
   "source": [
    "df_used = df_used[['vin', 'price', 'miles','year','make', 'model', 'body_type', 'vehicle_type',\n",
    "                   'drivetrain', 'transmission', 'fuel_type', 'engine_size', 'city', 'state', 'zip']]"
   ]
  },
  {
   "cell_type": "markdown",
   "id": "7f72437b",
   "metadata": {},
   "source": [
    "Let start cleaning our data by checking for missing values and duplicates \n",
    "\n",
    "First let's see how many null values exists in our dataset"
   ]
  },
  {
   "cell_type": "code",
   "execution_count": 8,
   "id": "f5d25cda",
   "metadata": {},
   "outputs": [
    {
     "data": {
      "text/plain": [
       "vin                  0\n",
       "price           229615\n",
       "miles            25051\n",
       "year                72\n",
       "make                 0\n",
       "model             4015\n",
       "body_type        13922\n",
       "vehicle_type     19210\n",
       "drivetrain        7870\n",
       "transmission      6744\n",
       "fuel_type        22893\n",
       "engine_size      51688\n",
       "city              4208\n",
       "state             4215\n",
       "zip               4295\n",
       "dtype: int64"
      ]
     },
     "execution_count": 8,
     "metadata": {},
     "output_type": "execute_result"
    }
   ],
   "source": [
    "df_used.isnull().sum()"
   ]
  },
  {
   "cell_type": "markdown",
   "id": "ae4a4667",
   "metadata": {},
   "source": [
    "Since price is the dependent we are trying to predict we only use observations with price.\n",
    "We will also only used observations with the independent variable 'year' since one of the key factors to pricing"
   ]
  },
  {
   "cell_type": "code",
   "execution_count": 9,
   "id": "a715513a",
   "metadata": {},
   "outputs": [],
   "source": [
    "df_used = df_used[df_used['price'].notna()]\n",
    "df_used = df_used[df_used['year'].notna()]\n",
    "df_used = df_used[df_used['miles'].notna()]\n",
    "df_used = df_used[df_used['engine_size'].notna()]"
   ]
  },
  {
   "cell_type": "code",
   "execution_count": 10,
   "id": "a1735588",
   "metadata": {},
   "outputs": [],
   "source": [
    "df_used[\"fuel_type\"].fillna(\"Not Available\", inplace = True)\n",
    "df_used[\"model\"].fillna(\"Not Available\", inplace = True)\n",
    "df_used[\"body_type\"].fillna(\"Not Available\", inplace = True)\n",
    "df_used[\"vehicle_type\"].fillna(\"Not Available\", inplace = True)\n",
    "df_used[\"drivetrain\"].fillna(\"Not Available\", inplace = True)\n",
    "df_used[\"transmission\"].fillna(\"Not Available\", inplace = True)\n",
    "\n",
    "df_used[\"city\"].fillna(\"Not Available\", inplace = True)\n",
    "df_used[\"state\"].fillna(\"Not Available\", inplace = True)\n",
    "df_used[\"zip\"].fillna(\"Not Available\", inplace = True)"
   ]
  },
  {
   "cell_type": "code",
   "execution_count": 11,
   "id": "92b1adf0",
   "metadata": {},
   "outputs": [
    {
     "data": {
      "text/plain": [
       "vin             0\n",
       "price           0\n",
       "miles           0\n",
       "year            0\n",
       "make            0\n",
       "model           0\n",
       "body_type       0\n",
       "vehicle_type    0\n",
       "drivetrain      0\n",
       "transmission    0\n",
       "fuel_type       0\n",
       "engine_size     0\n",
       "city            0\n",
       "state           0\n",
       "zip             0\n",
       "dtype: int64"
      ]
     },
     "execution_count": 11,
     "metadata": {},
     "output_type": "execute_result"
    }
   ],
   "source": [
    "df_used.isnull().sum()"
   ]
  },
  {
   "cell_type": "code",
   "execution_count": 12,
   "id": "cc187450",
   "metadata": {},
   "outputs": [],
   "source": [
    "df_used['year'] = df_used['year'].astype(int)"
   ]
  },
  {
   "cell_type": "code",
   "execution_count": 13,
   "id": "081324c8",
   "metadata": {},
   "outputs": [
    {
     "data": {
      "text/plain": [
       "0          2015\n",
       "1          2018\n",
       "2          2018\n",
       "3          2019\n",
       "6          2000\n",
       "           ... \n",
       "2499995    2008\n",
       "2499996    2013\n",
       "2499997    2010\n",
       "2499998    2012\n",
       "2499999    2015\n",
       "Name: year, Length: 2218224, dtype: int64"
      ]
     },
     "execution_count": 13,
     "metadata": {},
     "output_type": "execute_result"
    }
   ],
   "source": [
    "df_used['year']"
   ]
  },
  {
   "cell_type": "code",
   "execution_count": 14,
   "id": "f01eef7a",
   "metadata": {},
   "outputs": [
    {
     "data": {
      "text/plain": [
       "vin             0\n",
       "price           0\n",
       "miles           0\n",
       "year            0\n",
       "make            0\n",
       "model           0\n",
       "body_type       0\n",
       "vehicle_type    0\n",
       "drivetrain      0\n",
       "transmission    0\n",
       "fuel_type       0\n",
       "engine_size     0\n",
       "city            0\n",
       "state           0\n",
       "zip             0\n",
       "dtype: int64"
      ]
     },
     "execution_count": 14,
     "metadata": {},
     "output_type": "execute_result"
    }
   ],
   "source": [
    "df_used.isnull().sum()"
   ]
  },
  {
   "cell_type": "markdown",
   "id": "105a94a2",
   "metadata": {},
   "source": [
    "Let's see what duplicates exist for relevant columns and remove them. Since 'vin' is a unique identification of each vehicle we only need one instance of a car."
   ]
  },
  {
   "cell_type": "code",
   "execution_count": 15,
   "id": "449dfd16",
   "metadata": {},
   "outputs": [
    {
     "data": {
      "text/plain": [
       "1143149"
      ]
     },
     "execution_count": 15,
     "metadata": {},
     "output_type": "execute_result"
    }
   ],
   "source": [
    "df_used['vin'].duplicated().sum()"
   ]
  },
  {
   "cell_type": "code",
   "execution_count": 16,
   "id": "12659aeb",
   "metadata": {},
   "outputs": [],
   "source": [
    "df_used.drop_duplicates(subset=['vin'], inplace=True)"
   ]
  },
  {
   "cell_type": "code",
   "execution_count": 17,
   "id": "727ca6be",
   "metadata": {},
   "outputs": [
    {
     "data": {
      "text/plain": [
       "0"
      ]
     },
     "execution_count": 17,
     "metadata": {},
     "output_type": "execute_result"
    }
   ],
   "source": [
    "df_used['vin'].duplicated().sum()"
   ]
  },
  {
   "cell_type": "code",
   "execution_count": 18,
   "id": "e5cd55db",
   "metadata": {},
   "outputs": [
    {
     "data": {
      "text/plain": [
       "(1075075, 15)"
      ]
     },
     "execution_count": 18,
     "metadata": {},
     "output_type": "execute_result"
    }
   ],
   "source": [
    "df_used.shape"
   ]
  },
  {
   "cell_type": "markdown",
   "id": "f0d39b0d",
   "metadata": {},
   "source": [
    "Since we are only looking for used cars from 2010-2021 we'll filter the dataframe for only those years."
   ]
  },
  {
   "cell_type": "code",
   "execution_count": 19,
   "id": "e5a9aed2",
   "metadata": {},
   "outputs": [],
   "source": [
    "df_used = df_used.loc[(df_used['year'] > 2009) & (df_used['year'] < 2022) ]"
   ]
  },
  {
   "cell_type": "code",
   "execution_count": 20,
   "id": "e2aa3160",
   "metadata": {},
   "outputs": [
    {
     "name": "stdout",
     "output_type": "stream",
     "text": [
      "[2010 2011 2012 2013 2014 2015 2016 2017 2018 2019 2020 2021]\n"
     ]
    }
   ],
   "source": [
    "car_yrs = df_used.year.unique()\n",
    "car_yrs.sort()\n",
    "print(car_yrs)"
   ]
  },
  {
   "cell_type": "code",
   "execution_count": 21,
   "id": "58445707",
   "metadata": {},
   "outputs": [
    {
     "data": {
      "text/plain": [
       "3066"
      ]
     },
     "execution_count": 21,
     "metadata": {},
     "output_type": "execute_result"
    }
   ],
   "source": [
    "df_used['price'][df_used['price'] > 120000].count()"
   ]
  },
  {
   "cell_type": "code",
   "execution_count": 22,
   "id": "76675375",
   "metadata": {},
   "outputs": [],
   "source": [
    "df_used = df_used.loc[df_used['price'] <= 120000]"
   ]
  },
  {
   "cell_type": "code",
   "execution_count": 23,
   "id": "1b42bdec",
   "metadata": {},
   "outputs": [
    {
     "data": {
      "text/plain": [
       "16854"
      ]
     },
     "execution_count": 23,
     "metadata": {},
     "output_type": "execute_result"
    }
   ],
   "source": [
    "df_used['miles'][df_used['miles'] > 160000].count()"
   ]
  },
  {
   "cell_type": "markdown",
   "id": "072fda4d",
   "metadata": {},
   "source": [
    "There are multiple names for the same fuel type. We will designate each fuel type categorically"
   ]
  },
  {
   "cell_type": "code",
   "execution_count": 24,
   "id": "5a37dec8",
   "metadata": {},
   "outputs": [
    {
     "name": "stdout",
     "output_type": "stream",
     "text": [
      "                       vin    price     miles  year        make  \\\n",
      "0        1GCWGFCF3F1284719  20998.0  115879.0  2015   Chevrolet   \n",
      "1        WBY7Z8C59JVB87514  27921.0    7339.0  2018         BMW   \n",
      "2        ML32F4FJ2JHF10325  11055.0   39798.0  2018  Mitsubishi   \n",
      "3        1GCPTEE15K1291189  52997.0   28568.0  2019   Chevrolet   \n",
      "7        3GNBABDBXAS598032   6500.0   74274.0  2010   Chevrolet   \n",
      "...                    ...      ...       ...   ...         ...   \n",
      "2499976  19XFB2F57FE221582  11792.0   87234.0  2015       Honda   \n",
      "2499986  19XFB2F84CE372899  12990.0   91941.0  2012       Honda   \n",
      "2499990  19XFB2F5XFE701616  14988.0   59075.0  2015       Honda   \n",
      "2499994  2HGFA1F62BH541849   6995.0  195369.0  2011       Honda   \n",
      "2499999  19XFB2F81FE074573  14299.0   70424.0  2015       Honda   \n",
      "\n",
      "                 model  body_type vehicle_type drivetrain transmission  \\\n",
      "0        Express Cargo  Cargo Van        Truck        RWD    Automatic   \n",
      "1                   i3  Hatchback          Car        RWD    Automatic   \n",
      "2            Mirage G4      Sedan          Car        FWD    Automatic   \n",
      "3             Colorado     Pickup        Truck        4WD    Automatic   \n",
      "7                  HHR   Mini Mpv          Car        FWD    Automatic   \n",
      "...                ...        ...          ...        ...          ...   \n",
      "2499976          Civic      Sedan          Car        FWD    Automatic   \n",
      "2499986          Civic      Sedan          Car        FWD    Automatic   \n",
      "2499990          Civic      Sedan          Car        FWD    Automatic   \n",
      "2499994          Civic      Sedan          Car        FWD    Automatic   \n",
      "2499999          Civic      Sedan          Car        FWD    Automatic   \n",
      "\n",
      "                           fuel_type  engine_size           city state    zip  \\\n",
      "0                     E85 / Unleaded          4.8  Ellicott City    MD  21043   \n",
      "1        Electric / Premium Unleaded          0.6  Pompano Beach    FL  33064   \n",
      "2                           Unleaded          1.2      West Bend    WI  53095   \n",
      "3                             Diesel          2.8         Layton    UT  84041   \n",
      "7                     E85 / Unleaded          2.2    Grand Blanc    MI  48439   \n",
      "...                              ...          ...            ...   ...    ...   \n",
      "2499976                     Unleaded          1.8        Laconia    NH  03246   \n",
      "2499986                     Unleaded          1.8         Pomona    CA  91768   \n",
      "2499990                     Unleaded          1.8       Westport    MA  02790   \n",
      "2499994                     Unleaded          1.8        Medford    OR  97501   \n",
      "2499999                     Unleaded          1.8        Houston    TX  77042   \n",
      "\n",
      "        new_fuel_type  \n",
      "0                 E85  \n",
      "1              Hybrid  \n",
      "2            Unleaded  \n",
      "3              Diesel  \n",
      "7                 E85  \n",
      "...               ...  \n",
      "2499976      Unleaded  \n",
      "2499986      Unleaded  \n",
      "2499990      Unleaded  \n",
      "2499994      Unleaded  \n",
      "2499999      Unleaded  \n",
      "\n",
      "[995832 rows x 16 columns]\n"
     ]
    }
   ],
   "source": [
    "result = []\n",
    "for i in df_used['fuel_type']:\n",
    "    if i == 'Unleaded' or i == 'Unleaded / Unleaded':\n",
    "        result.append('Unleaded')\n",
    "    \n",
    "    elif i == 'Premium Unleaded' or i == 'Premium Unleaded; Unleaded' or i == 'Premium Unleaded / Unleaded':\n",
    "        result.append('Premium')\n",
    "    \n",
    "    elif i == 'E85 / Unleaded' \\\n",
    "    or i == 'E85 / Unleaded; Premium Unleaded' \\\n",
    "    or i == 'E85 / Unleaded; Unleaded / Unleaded' \\\n",
    "    or i == 'E85 / Unleaded; Unleaded' \\\n",
    "    or i == 'E85 / Premium Unleaded; E85 / Unleaded' \\\n",
    "    or i == 'E85; E85 / Unleaded' \\\n",
    "        or i == 'E85':\n",
    "        result.append('E85') \n",
    "    \n",
    "    elif i == 'Diesel' \\\n",
    "    or i == 'Diesel; Unleaded' \\\n",
    "    or i == 'Diesel / Premium Unleaded' \\\n",
    "    or i == 'Diesel; E85 / Unleaded':\n",
    "        result.append('Diesel')\n",
    "    \n",
    "    elif i == 'Electric / Unleaded' \\\n",
    "    or i == 'Electric / Premium Unleaded'\\\n",
    "    or i == 'Electric / Hydrogen' \\\n",
    "    or i == 'Electric / Premium Unleaded; Premium Unleaded' \\\n",
    "    or i == 'Electric / Premium Unleaded; Electric / Unleaded' \\\n",
    "    or i == 'Electric / E85':\n",
    "        result.append('Hybrid')\n",
    "    \n",
    "    elif i == 'Electric':\n",
    "        result.append('Electric')\n",
    "    elif i == 'Compressed Natural Gas' \\\n",
    "    or i == 'Compressed Natural Gas / Unleaded' \\\n",
    "    or i == 'Compressed Natural Gas; Unleaded' \\\n",
    "    or i == 'Hydrogen':\n",
    "        result.append('Compressed Natural Gas')\n",
    "    else:\n",
    "        result.append('Not Available')\n",
    "\n",
    "df_used['new_fuel_type'] = result\n",
    "print(df_used)"
   ]
  },
  {
   "cell_type": "code",
   "execution_count": 25,
   "id": "28cce4d3",
   "metadata": {},
   "outputs": [
    {
     "data": {
      "text/plain": [
       "(995832, 16)"
      ]
     },
     "execution_count": 25,
     "metadata": {},
     "output_type": "execute_result"
    }
   ],
   "source": [
    "df_used.shape"
   ]
  },
  {
   "cell_type": "code",
   "execution_count": 26,
   "id": "da499b40",
   "metadata": {},
   "outputs": [
    {
     "data": {
      "text/html": [
       "<div>\n",
       "<style scoped>\n",
       "    .dataframe tbody tr th:only-of-type {\n",
       "        vertical-align: middle;\n",
       "    }\n",
       "\n",
       "    .dataframe tbody tr th {\n",
       "        vertical-align: top;\n",
       "    }\n",
       "\n",
       "    .dataframe thead th {\n",
       "        text-align: right;\n",
       "    }\n",
       "</style>\n",
       "<table border=\"1\" class=\"dataframe\">\n",
       "  <thead>\n",
       "    <tr style=\"text-align: right;\">\n",
       "      <th></th>\n",
       "      <th>price</th>\n",
       "      <th>miles</th>\n",
       "      <th>year</th>\n",
       "      <th>engine_size</th>\n",
       "    </tr>\n",
       "  </thead>\n",
       "  <tbody>\n",
       "    <tr>\n",
       "      <th>count</th>\n",
       "      <td>995832.00</td>\n",
       "      <td>995832.00</td>\n",
       "      <td>995832.00</td>\n",
       "      <td>995832.00</td>\n",
       "    </tr>\n",
       "    <tr>\n",
       "      <th>mean</th>\n",
       "      <td>26863.56</td>\n",
       "      <td>51237.78</td>\n",
       "      <td>2016.96</td>\n",
       "      <td>2.94</td>\n",
       "    </tr>\n",
       "    <tr>\n",
       "      <th>std</th>\n",
       "      <td>14249.45</td>\n",
       "      <td>40224.59</td>\n",
       "      <td>2.54</td>\n",
       "      <td>1.33</td>\n",
       "    </tr>\n",
       "    <tr>\n",
       "      <th>min</th>\n",
       "      <td>0.00</td>\n",
       "      <td>0.00</td>\n",
       "      <td>2010.00</td>\n",
       "      <td>0.60</td>\n",
       "    </tr>\n",
       "    <tr>\n",
       "      <th>25%</th>\n",
       "      <td>16995.00</td>\n",
       "      <td>22602.00</td>\n",
       "      <td>2016.00</td>\n",
       "      <td>2.00</td>\n",
       "    </tr>\n",
       "    <tr>\n",
       "      <th>50%</th>\n",
       "      <td>23880.00</td>\n",
       "      <td>39135.50</td>\n",
       "      <td>2018.00</td>\n",
       "      <td>2.50</td>\n",
       "    </tr>\n",
       "    <tr>\n",
       "      <th>75%</th>\n",
       "      <td>33990.00</td>\n",
       "      <td>73004.00</td>\n",
       "      <td>2019.00</td>\n",
       "      <td>3.60</td>\n",
       "    </tr>\n",
       "    <tr>\n",
       "      <th>max</th>\n",
       "      <td>120000.00</td>\n",
       "      <td>1752335.00</td>\n",
       "      <td>2021.00</td>\n",
       "      <td>30.00</td>\n",
       "    </tr>\n",
       "  </tbody>\n",
       "</table>\n",
       "</div>"
      ],
      "text/plain": [
       "           price       miles       year  engine_size\n",
       "count  995832.00   995832.00  995832.00    995832.00\n",
       "mean    26863.56    51237.78    2016.96         2.94\n",
       "std     14249.45    40224.59       2.54         1.33\n",
       "min         0.00        0.00    2010.00         0.60\n",
       "25%     16995.00    22602.00    2016.00         2.00\n",
       "50%     23880.00    39135.50    2018.00         2.50\n",
       "75%     33990.00    73004.00    2019.00         3.60\n",
       "max    120000.00  1752335.00    2021.00        30.00"
      ]
     },
     "execution_count": 26,
     "metadata": {},
     "output_type": "execute_result"
    }
   ],
   "source": [
    "df_used.describe().round(2)"
   ]
  },
  {
   "cell_type": "code",
   "execution_count": 41,
   "id": "a464cae8",
   "metadata": {},
   "outputs": [
    {
     "data": {
      "text/plain": [
       "<AxesSubplot:>"
      ]
     },
     "execution_count": 41,
     "metadata": {},
     "output_type": "execute_result"
    },
    {
     "data": {
      "image/png": "[encoded data removed]",
      "text/plain": [
       "<Figure size 432x288 with 2 Axes>"
      ]
     },
     "metadata": {
      "needs_background": "light"
     },
     "output_type": "display_data"
    }
   ],
   "source": [
    "df_used_corr = df_used.corr(method='pearson')\n",
    "sns.heatmap(df_used_corr, annot=True)"
   ]
  },
  {
   "cell_type": "code",
   "execution_count": 28,
   "id": "e1a5fcbd",
   "metadata": {},
   "outputs": [
    {
     "data": {
      "text/html": [
       "<div>\n",
       "<style scoped>\n",
       "    .dataframe tbody tr th:only-of-type {\n",
       "        vertical-align: middle;\n",
       "    }\n",
       "\n",
       "    .dataframe tbody tr th {\n",
       "        vertical-align: top;\n",
       "    }\n",
       "\n",
       "    .dataframe thead th {\n",
       "        text-align: right;\n",
       "    }\n",
       "</style>\n",
       "<table border=\"1\" class=\"dataframe\">\n",
       "  <thead>\n",
       "    <tr style=\"text-align: right;\">\n",
       "      <th></th>\n",
       "      <th>price</th>\n",
       "      <th>miles</th>\n",
       "      <th>year</th>\n",
       "      <th>engine_size</th>\n",
       "    </tr>\n",
       "  </thead>\n",
       "  <tbody>\n",
       "    <tr>\n",
       "      <th>price</th>\n",
       "      <td>1.000000</td>\n",
       "      <td>-0.452798</td>\n",
       "      <td>0.497166</td>\n",
       "      <td>0.504632</td>\n",
       "    </tr>\n",
       "    <tr>\n",
       "      <th>miles</th>\n",
       "      <td>-0.452798</td>\n",
       "      <td>1.000000</td>\n",
       "      <td>-0.748021</td>\n",
       "      <td>0.146360</td>\n",
       "    </tr>\n",
       "    <tr>\n",
       "      <th>year</th>\n",
       "      <td>0.497166</td>\n",
       "      <td>-0.748021</td>\n",
       "      <td>1.000000</td>\n",
       "      <td>-0.088375</td>\n",
       "    </tr>\n",
       "    <tr>\n",
       "      <th>engine_size</th>\n",
       "      <td>0.504632</td>\n",
       "      <td>0.146360</td>\n",
       "      <td>-0.088375</td>\n",
       "      <td>1.000000</td>\n",
       "    </tr>\n",
       "  </tbody>\n",
       "</table>\n",
       "</div>"
      ],
      "text/plain": [
       "                price     miles      year  engine_size\n",
       "price        1.000000 -0.452798  0.497166     0.504632\n",
       "miles       -0.452798  1.000000 -0.748021     0.146360\n",
       "year         0.497166 -0.748021  1.000000    -0.088375\n",
       "engine_size  0.504632  0.146360 -0.088375     1.000000"
      ]
     },
     "execution_count": 28,
     "metadata": {},
     "output_type": "execute_result"
    }
   ],
   "source": [
    "df_corr = df_used.corr()\n",
    "df_corr"
   ]
  },
  {
   "cell_type": "code",
   "execution_count": 29,
   "id": "05c4f00b",
   "metadata": {},
   "outputs": [
    {
     "name": "stdout",
     "output_type": "stream",
     "text": [
      "price          16995.0\n",
      "miles          50402.0\n",
      "year               3.0\n",
      "engine_size        1.6\n",
      "dtype: float64\n"
     ]
    }
   ],
   "source": [
    "Q1 = df_used.quantile(0.25)\n",
    "Q3 = df_used.quantile(0.75)\n",
    "IQR = Q3 - Q1\n",
    "\n",
    "print(IQR)"
   ]
  },
  {
   "cell_type": "code",
   "execution_count": 30,
   "id": "ba6ba3ed",
   "metadata": {},
   "outputs": [
    {
     "name": "stderr",
     "output_type": "stream",
     "text": [
      "/var/folders/5m/q9v7gbbs36s__cc1qbvl9vfr0000gn/T/ipykernel_22585/2907848334.py:3: FutureWarning: Automatic reindexing on DataFrame vs Series comparisons is deprecated and will raise ValueError in a future version.  Do `left, right = left.align(right, axis=1, copy=False)` before e.g. `left == right`\n",
      "  outliers = df_used[((df_used < lower_limit) | (df_used > upper_limit)).any(axis=1)]\n"
     ]
    },
    {
     "name": "stdout",
     "output_type": "stream",
     "text": [
      "                       vin     price     miles  year           make  \\\n",
      "7        3GNBABDBXAS598032    6500.0   74274.0  2010      Chevrolet   \n",
      "8        5YMCY0C08L9D04057  105974.0    9589.0  2020            BMW   \n",
      "12       WDDDJ7CB9BA170249   16995.0  110615.0  2011  Mercedes-Benz   \n",
      "18       3C6UR5FJ2HG558595   45999.0   70954.0  2017            RAM   \n",
      "22       1C4SDJGJ2JC366348   55595.0   28904.0  2018          Dodge   \n",
      "...                    ...       ...       ...   ...            ...   \n",
      "2499854  2HGFA1F92AH525935   14590.0   61849.0  2010          Honda   \n",
      "2499856  19XFA1F59AE027237    5500.0  180623.0  2010          Honda   \n",
      "2499918  2HGFB2F52CH513092    4950.0  206000.0  2012          Honda   \n",
      "2499947  2HGFA1F52BH500385    8300.0   61030.0  2011          Honda   \n",
      "2499994  2HGFA1F62BH541849    6995.0  195369.0  2011          Honda   \n",
      "\n",
      "                   model body_type vehicle_type drivetrain transmission  \\\n",
      "7                    HHR  Mini Mpv          Car        FWD    Automatic   \n",
      "8                   X6 M       SUV        Truck        4WD    Automatic   \n",
      "12             CLS-Class     Coupe          Car        RWD    Automatic   \n",
      "18       Ram 2500 Pickup    Pickup        Truck        4WD    Automatic   \n",
      "22               Durango       SUV        Truck        4WD    Automatic   \n",
      "...                  ...       ...          ...        ...          ...   \n",
      "2499854            Civic     Sedan          Car        FWD    Automatic   \n",
      "2499856            Civic     Sedan          Car        FWD    Automatic   \n",
      "2499918            Civic     Sedan          Car        FWD    Automatic   \n",
      "2499947            Civic     Sedan          Car        FWD    Automatic   \n",
      "2499994            Civic     Sedan          Car        FWD    Automatic   \n",
      "\n",
      "                fuel_type  engine_size           city state    zip  \\\n",
      "7          E85 / Unleaded          2.2    Grand Blanc    MI  48439   \n",
      "8        Premium Unleaded          4.4          Miami    FL  33137   \n",
      "12       Premium Unleaded          5.5    Bentonville    AR  72712   \n",
      "18               Unleaded          6.4    Leonardtown    MD  20650   \n",
      "22       Premium Unleaded          6.4      Englewood    NJ  07631   \n",
      "...                   ...          ...            ...   ...    ...   \n",
      "2499854          Unleaded          1.8     Greenfield    IN  46140   \n",
      "2499856          Unleaded          1.8         Morrow    GA  30260   \n",
      "2499918          Unleaded          1.8  Fuquay-varina    NC  27526   \n",
      "2499947          Unleaded          1.8       Westbury    NY  11590   \n",
      "2499994          Unleaded          1.8        Medford    OR  97501   \n",
      "\n",
      "        new_fuel_type  \n",
      "7                 E85  \n",
      "8             Premium  \n",
      "12            Premium  \n",
      "18           Unleaded  \n",
      "22            Premium  \n",
      "...               ...  \n",
      "2499854      Unleaded  \n",
      "2499856      Unleaded  \n",
      "2499918      Unleaded  \n",
      "2499947      Unleaded  \n",
      "2499994      Unleaded  \n",
      "\n",
      "[113352 rows x 16 columns]\n"
     ]
    }
   ],
   "source": [
    "lower_limit = Q1 - 1.5 * IQR\n",
    "upper_limit = Q3 + 1.5 * IQR\n",
    "outliers = df_used[((df_used < lower_limit) | (df_used > upper_limit)).any(axis=1)]\n",
    "print(outliers)"
   ]
  },
  {
   "cell_type": "code",
   "execution_count": 31,
   "id": "8cb19965",
   "metadata": {},
   "outputs": [
    {
     "name": "stderr",
     "output_type": "stream",
     "text": [
      "/var/folders/5m/q9v7gbbs36s__cc1qbvl9vfr0000gn/T/ipykernel_22585/2871251487.py:1: FutureWarning: Automatic reindexing on DataFrame vs Series comparisons is deprecated and will raise ValueError in a future version.  Do `left, right = left.align(right, axis=1, copy=False)` before e.g. `left == right`\n",
      "  df_no_outliers = df_used[~((df_used < lower_limit) | (df_used > upper_limit)).any(axis=1)]\n"
     ]
    },
    {
     "name": "stdout",
     "output_type": "stream",
     "text": [
      "                       vin    price     miles  year        make  \\\n",
      "0        1GCWGFCF3F1284719  20998.0  115879.0  2015   Chevrolet   \n",
      "1        WBY7Z8C59JVB87514  27921.0    7339.0  2018         BMW   \n",
      "2        ML32F4FJ2JHF10325  11055.0   39798.0  2018  Mitsubishi   \n",
      "3        1GCPTEE15K1291189  52997.0   28568.0  2019   Chevrolet   \n",
      "7        3GNBABDBXAS598032   6500.0   74274.0  2010   Chevrolet   \n",
      "...                    ...      ...       ...   ...         ...   \n",
      "2499976  19XFB2F57FE221582  11792.0   87234.0  2015       Honda   \n",
      "2499986  19XFB2F84CE372899  12990.0   91941.0  2012       Honda   \n",
      "2499990  19XFB2F5XFE701616  14988.0   59075.0  2015       Honda   \n",
      "2499994  2HGFA1F62BH541849   6995.0  195369.0  2011       Honda   \n",
      "2499999  19XFB2F81FE074573  14299.0   70424.0  2015       Honda   \n",
      "\n",
      "                 model  body_type vehicle_type drivetrain transmission  \\\n",
      "0        Express Cargo  Cargo Van        Truck        RWD    Automatic   \n",
      "1                   i3  Hatchback          Car        RWD    Automatic   \n",
      "2            Mirage G4      Sedan          Car        FWD    Automatic   \n",
      "3             Colorado     Pickup        Truck        4WD    Automatic   \n",
      "7                  HHR   Mini Mpv          Car        FWD    Automatic   \n",
      "...                ...        ...          ...        ...          ...   \n",
      "2499976          Civic      Sedan          Car        FWD    Automatic   \n",
      "2499986          Civic      Sedan          Car        FWD    Automatic   \n",
      "2499990          Civic      Sedan          Car        FWD    Automatic   \n",
      "2499994          Civic      Sedan          Car        FWD    Automatic   \n",
      "2499999          Civic      Sedan          Car        FWD    Automatic   \n",
      "\n",
      "                           fuel_type  engine_size           city state    zip  \\\n",
      "0                     E85 / Unleaded          4.8  Ellicott City    MD  21043   \n",
      "1        Electric / Premium Unleaded          0.6  Pompano Beach    FL  33064   \n",
      "2                           Unleaded          1.2      West Bend    WI  53095   \n",
      "3                             Diesel          2.8         Layton    UT  84041   \n",
      "7                     E85 / Unleaded          2.2    Grand Blanc    MI  48439   \n",
      "...                              ...          ...            ...   ...    ...   \n",
      "2499976                     Unleaded          1.8        Laconia    NH  03246   \n",
      "2499986                     Unleaded          1.8         Pomona    CA  91768   \n",
      "2499990                     Unleaded          1.8       Westport    MA  02790   \n",
      "2499994                     Unleaded          1.8        Medford    OR  97501   \n",
      "2499999                     Unleaded          1.8        Houston    TX  77042   \n",
      "\n",
      "        new_fuel_type  \n",
      "0                 E85  \n",
      "1              Hybrid  \n",
      "2            Unleaded  \n",
      "3              Diesel  \n",
      "7                 E85  \n",
      "...               ...  \n",
      "2499976      Unleaded  \n",
      "2499986      Unleaded  \n",
      "2499990      Unleaded  \n",
      "2499994      Unleaded  \n",
      "2499999      Unleaded  \n",
      "\n",
      "[995832 rows x 16 columns]\n"
     ]
    }
   ],
   "source": [
    "df_no_outliers = df_used[~((df_used < lower_limit) | (df_used > upper_limit)).any(axis=1)]\n",
    "print(df_used)"
   ]
  },
  {
   "cell_type": "code",
   "execution_count": 32,
   "id": "90e3ead7",
   "metadata": {},
   "outputs": [
    {
     "data": {
      "text/plain": [
       "(array([-10000.,      0.,  10000.,  20000.,  30000.,  40000.,  50000.,\n",
       "         60000.,  70000.]),\n",
       " [Text(-10000.0, 0, '−10000'),\n",
       "  Text(0.0, 0, '0'),\n",
       "  Text(10000.0, 0, '10000'),\n",
       "  Text(20000.0, 0, '20000'),\n",
       "  Text(30000.0, 0, '30000'),\n",
       "  Text(40000.0, 0, '40000'),\n",
       "  Text(50000.0, 0, '50000'),\n",
       "  Text(60000.0, 0, '60000'),\n",
       "  Text(70000.0, 0, '70000')])"
      ]
     },
     "execution_count": 32,
     "metadata": {},
     "output_type": "execute_result"
    },
    {
     "data": {
      "image/png": "[encoded data removed]",
      "text/plain": [
       "<Figure size 360x360 with 1 Axes>"
      ]
     },
     "metadata": {
      "needs_background": "light"
     },
     "output_type": "display_data"
    }
   ],
   "source": [
    "sns.displot(df_no_outliers['price'])\n",
    "plt.xticks(rotation=45)"
   ]
  },
  {
   "cell_type": "code",
   "execution_count": 33,
   "id": "82f8056e",
   "metadata": {},
   "outputs": [
    {
     "data": {
      "text/plain": [
       "(array([-20000.,      0.,  20000.,  40000.,  60000.,  80000., 100000.,\n",
       "        120000., 140000., 160000.]),\n",
       " [Text(-20000.0, 0, '−20000'),\n",
       "  Text(0.0, 0, '0'),\n",
       "  Text(20000.0, 0, '20000'),\n",
       "  Text(40000.0, 0, '40000'),\n",
       "  Text(60000.0, 0, '60000'),\n",
       "  Text(80000.0, 0, '80000'),\n",
       "  Text(100000.0, 0, '100000'),\n",
       "  Text(120000.0, 0, '120000'),\n",
       "  Text(140000.0, 0, '140000'),\n",
       "  Text(160000.0, 0, '160000')])"
      ]
     },
     "execution_count": 33,
     "metadata": {},
     "output_type": "execute_result"
    },
    {
     "data": {
      "image/png": "[encoded data removed]",
      "text/plain": [
       "<Figure size 360x360 with 1 Axes>"
      ]
     },
     "metadata": {
      "needs_background": "light"
     },
     "output_type": "display_data"
    }
   ],
   "source": [
    "sns.displot(df_no_outliers['miles'])\n",
    "plt.xticks(rotation=45)"
   ]
  },
  {
   "cell_type": "code",
   "execution_count": 34,
   "id": "e27a1e34",
   "metadata": {},
   "outputs": [
    {
     "data": {
      "text/plain": [
       "(array([2010., 2012., 2014., 2016., 2018., 2020., 2022.]),\n",
       " [Text(2010.0, 0, '2010'),\n",
       "  Text(2012.0, 0, '2012'),\n",
       "  Text(2014.0, 0, '2014'),\n",
       "  Text(2016.0, 0, '2016'),\n",
       "  Text(2018.0, 0, '2018'),\n",
       "  Text(2020.0, 0, '2020'),\n",
       "  Text(2022.0, 0, '2022')])"
      ]
     },
     "execution_count": 34,
     "metadata": {},
     "output_type": "execute_result"
    },
    {
     "data": {
      "image/png": "[encoded data removed]",
      "text/plain": [
       "<Figure size 360x360 with 1 Axes>"
      ]
     },
     "metadata": {
      "needs_background": "light"
     },
     "output_type": "display_data"
    }
   ],
   "source": [
    "sns.displot(df_no_outliers['year'])\n",
    "plt.xticks(rotation=45)"
   ]
  },
  {
   "cell_type": "code",
   "execution_count": 35,
   "id": "4b01f78a",
   "metadata": {},
   "outputs": [
    {
     "data": {
      "text/plain": [
       "Index(['vin', 'price', 'miles', 'year', 'make', 'model', 'body_type',\n",
       "       'vehicle_type', 'drivetrain', 'transmission', 'fuel_type',\n",
       "       'engine_size', 'city', 'state', 'zip', 'new_fuel_type'],\n",
       "      dtype='object')"
      ]
     },
     "execution_count": 35,
     "metadata": {},
     "output_type": "execute_result"
    }
   ],
   "source": [
    "df_no_outliers.columns"
   ]
  },
  {
   "cell_type": "code",
   "execution_count": 36,
   "id": "fd86d42f",
   "metadata": {},
   "outputs": [
    {
     "name": "stdout",
     "output_type": "stream",
     "text": [
      "<class 'pandas.core.frame.DataFrame'>\n",
      "Int64Index: 882480 entries, 0 to 2499999\n",
      "Data columns (total 16 columns):\n",
      " #   Column         Non-Null Count   Dtype  \n",
      "---  ------         --------------   -----  \n",
      " 0   vin            882480 non-null  object \n",
      " 1   price          882480 non-null  float64\n",
      " 2   miles          882480 non-null  float64\n",
      " 3   year           882480 non-null  int64  \n",
      " 4   make           882480 non-null  object \n",
      " 5   model          882480 non-null  object \n",
      " 6   body_type      882480 non-null  object \n",
      " 7   vehicle_type   882480 non-null  object \n",
      " 8   drivetrain     882480 non-null  object \n",
      " 9   transmission   882480 non-null  object \n",
      " 10  fuel_type      882480 non-null  object \n",
      " 11  engine_size    882480 non-null  float64\n",
      " 12  city           882480 non-null  object \n",
      " 13  state          882480 non-null  object \n",
      " 14  zip            882480 non-null  object \n",
      " 15  new_fuel_type  882480 non-null  object \n",
      "dtypes: float64(3), int64(1), object(12)\n",
      "memory usage: 114.5+ MB\n"
     ]
    }
   ],
   "source": [
    "df_no_outliers.info()"
   ]
  },
  {
   "cell_type": "code",
   "execution_count": 37,
   "id": "ae375406",
   "metadata": {},
   "outputs": [
    {
     "data": {
      "text/plain": [
       "(882480, 16)"
      ]
     },
     "execution_count": 37,
     "metadata": {},
     "output_type": "execute_result"
    }
   ],
   "source": [
    "df_no_outliers.shape"
   ]
  },
  {
   "cell_type": "code",
   "execution_count": 43,
   "id": "c7861c7d",
   "metadata": {},
   "outputs": [
    {
     "data": {
      "image/png": "[encoded data removed]",
      "text/plain": [
       "<Figure size 1440x720 with 1 Axes>"
      ]
     },
     "metadata": {
      "needs_background": "light"
     },
     "output_type": "display_data"
    }
   ],
   "source": [
    "price_by_year = df_no_outliers.groupby('year')['price'].mean()\n",
    "\n",
    "plt.figure(figsize=(20,10))\n",
    "sns.barplot(x= price_by_year.index, y= price_by_year.values)\n",
    "plt.title(\"Used Car prices by year\")\n",
    "plt.ylabel(\"Price\")\n",
    "plt.show()"
   ]
  },
  {
   "cell_type": "code",
   "execution_count": 47,
   "id": "3fb98661",
   "metadata": {
    "scrolled": true
   },
   "outputs": [
    {
     "data": {
      "image/png": "[encoded data removed]",
      "text/plain": [
       "<Figure size 1440x720 with 1 Axes>"
      ]
     },
     "metadata": {
      "needs_background": "light"
     },
     "output_type": "display_data"
    }
   ],
   "source": [
    "miles_by_year = df_no_outliers.groupby('year')['miles'].mean()\n",
    "\n",
    "plt.figure(figsize=(20,10))\n",
    "sns.barplot(x= miles_by_year.index, y= miles_by_year.values)\n",
    "plt.title(\"Used Car mileage by year\")\n",
    "plt.ylabel(\"Avg. Miles\")\n",
    "plt.show()"
   ]
  },
  {
   "cell_type": "code",
   "execution_count": 46,
   "id": "345f96bd",
   "metadata": {},
   "outputs": [
    {
     "data": {
      "image/png": "[encoded data removed]",
      "text/plain": [
       "<Figure size 1440x720 with 1 Axes>"
      ]
     },
     "metadata": {
      "needs_background": "light"
     },
     "output_type": "display_data"
    }
   ],
   "source": [
    "price_by_make = df_no_outliers.groupby('make')['price'].mean().sort_values()\n",
    "\n",
    "\n",
    "plt.figure(figsize=(20,10))\n",
    "sns.barplot(x= price_by_make.index, y= price_by_make.values)\n",
    "plt.title(\"Prices by Make\")\n",
    "plt.ylabel(\"Price\")\n",
    "plt.xlabel(\"Make (Brands)\")\n",
    "plt.xticks(rotation=90)\n",
    "plt.show()"
   ]
  },
  {
   "cell_type": "code",
   "execution_count": 38,
   "id": "ee5fcd62",
   "metadata": {},
   "outputs": [
    {
     "name": "stdout",
     "output_type": "stream",
     "text": [
      "                            OLS Regression Results                            \n",
      "==============================================================================\n",
      "Dep. Variable:                  price   R-squared:                       0.577\n",
      "Model:                            OLS   Adj. R-squared:                  0.577\n",
      "Method:                 Least Squares   F-statistic:                 4.017e+05\n",
      "Date:                Wed, 16 Mar 2022   Prob (F-statistic):               0.00\n",
      "Time:                        09:52:49   Log-Likelihood:            -9.0750e+06\n",
      "No. Observations:              882480   AIC:                         1.815e+07\n",
      "Df Residuals:                  882476   BIC:                         1.815e+07\n",
      "Df Model:                           3                                         \n",
      "Covariance Type:            nonrobust                                         \n",
      "===============================================================================\n",
      "                  coef    std err          t      P>|t|      [0.025      0.975]\n",
      "-------------------------------------------------------------------------------\n",
      "const        -3.41e+06   1.06e+04   -320.254      0.000   -3.43e+06   -3.39e+06\n",
      "miles          -0.0993      0.000   -286.765      0.000      -0.100      -0.099\n",
      "year         1698.0946      5.272    322.092      0.000    1687.762    1708.428\n",
      "engine_size  5229.0078      6.641    787.383      0.000    5215.992    5242.024\n",
      "==============================================================================\n",
      "Omnibus:                   110624.932   Durbin-Watson:                   1.149\n",
      "Prob(Omnibus):                  0.000   Jarque-Bera (JB):           179666.593\n",
      "Skew:                           0.877   Prob(JB):                         0.00\n",
      "Kurtosis:                       4.346   Cond. No.                     8.05e+07\n",
      "==============================================================================\n",
      "\n",
      "Notes:\n",
      "[1] Standard Errors assume that the covariance matrix of the errors is correctly specified.\n",
      "[2] The condition number is large, 8.05e+07. This might indicate that there are\n",
      "strong multicollinearity or other numerical problems.\n"
     ]
    },
    {
     "name": "stderr",
     "output_type": "stream",
     "text": [
      "/Users/hseo/opt/anaconda3/lib/python3.9/site-packages/statsmodels/tsa/tsatools.py:142: FutureWarning: In a future version of pandas all arguments of concat except for the argument 'objs' will be keyword-only\n",
      "  x = pd.concat(x[::order], 1)\n"
     ]
    }
   ],
   "source": [
    "ind_var = df_no_outliers[['miles', 'year','engine_size']]\n",
    "\n",
    "dep_var = df_no_outliers['price']\n",
    "\n",
    "ind_var = sm.add_constant(ind_var)\n",
    "model_fit = sm.OLS(dep_var, ind_var).fit()\n",
    "print(model_fit.summary())\n",
    "\n"
   ]
  },
  {
   "cell_type": "code",
   "execution_count": 39,
   "id": "18adfd72",
   "metadata": {},
   "outputs": [
    {
     "data": {
      "image/png": "[encoded data removed]",
      "text/plain": [
       "<Figure size 432x288 with 1 Axes>"
      ]
     },
     "metadata": {
      "needs_background": "light"
     },
     "output_type": "display_data"
    }
   ],
   "source": [
    "model_bar = model_fit.params\n",
    "model_bar = model_bar.sort_values(ascending=True)\n",
    "model_bar.plot(y = 'Price', kind='bar', \n",
    "               title= 'Regressive Coefficients for Price', legend=False)\n",
    "plt.show()\n"
   ]
  },
  {
   "cell_type": "code",
   "execution_count": 44,
   "id": "29b9c5ce",
   "metadata": {},
   "outputs": [],
   "source": [
    "df_no_outliers.to_csv('used_cars.csv', encoding='utf-8', index=False)"
   ]
  },
  {
   "cell_type": "code",
   "execution_count": null,
   "id": "8cc31da4",
   "metadata": {},
   "outputs": [],
   "source": []
  }
 ],
 "metadata": {
  "kernelspec": {
   "display_name": "Python 3 (ipykernel)",
   "language": "python",
   "name": "python3"
  },
  "language_info": {
   "codemirror_mode": {
    "name": "ipython",
    "version": 3
   },
   "file_extension": ".py",
   "mimetype": "text/x-python",
   "name": "python",
   "nbconvert_exporter": "python",
   "pygments_lexer": "ipython3",
   "version": "3.9.7"
  }
 },
 "nbformat": 4,
 "nbformat_minor": 5
}
