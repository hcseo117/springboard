{
 "cells": [
  {
   "cell_type": "markdown",
   "id": "e3a236dc",
   "metadata": {},
   "source": [
    "This Project we analyze a dataset from MarketCheck which holds information about the Used Car Market in the US.\n",
    "\n",
    "Aggregated from over 65,000 dealer websites, the dataset contains ~7 million rows and 21 columns.\n",
    "\n",
    "We'll be making use of ~2.5 million rows with 15 columns to conduct our analysis\n",
    "\n",
    "Through the analysis, we aim to:\n",
    "\n",
    "1. Get to know the 'Used Car Market in the US'.\n",
    "\n",
    "2. Understand the Used Car Market for newer used cars from years 2010-2021.\n",
    "\n",
    "3. Find insights and value by answering questions to help find the best deal for a car."
   ]
  },
  {
   "cell_type": "code",
   "execution_count": 1,
   "id": "ea20eab8",
   "metadata": {},
   "outputs": [],
   "source": [
    "# IMPORT LIBRARIES\n",
    "import matplotlib as mpl\n",
    "import numpy as np\n",
    "import matplotlib.pyplot as plt \n",
    "%matplotlib inline\n",
    "import seaborn as sns\n",
    "import pandas as pd\n",
    "import statsmodels.api as sm"
   ]
  },
  {
   "cell_type": "code",
   "execution_count": 2,
   "id": "80d28fe4",
   "metadata": {},
   "outputs": [
    {
     "name": "stderr",
     "output_type": "stream",
     "text": [
      "/Users/hseo/opt/anaconda3/lib/python3.9/site-packages/IPython/core/interactiveshell.py:3444: DtypeWarning: Columns (20) have mixed types.Specify dtype option on import or set low_memory=False.\n",
      "  exec(code_obj, self.user_global_ns, self.user_ns)\n"
     ]
    }
   ],
   "source": [
    "# IMPORT DATASET\n",
    "df_used = pd.read_csv('us-dealers-used.csv')"
   ]
  },
  {
   "cell_type": "code",
   "execution_count": 3,
   "id": "f10a42b6",
   "metadata": {},
   "outputs": [],
   "source": [
    "df_used = pd.read_csv('us-dealers-used.csv',  low_memory=False, nrows=2500000)"
   ]
  },
  {
   "cell_type": "code",
   "execution_count": 4,
   "id": "970929a0",
   "metadata": {},
   "outputs": [
    {
     "data": {
      "text/plain": [
       "(2500000, 21)"
      ]
     },
     "execution_count": 4,
     "metadata": {},
     "output_type": "execute_result"
    }
   ],
   "source": [
    "# show the number of rows and columns used for analysis\n",
    "df_used.shape"
   ]
  },
  {
   "cell_type": "code",
   "execution_count": 5,
   "id": "8969d9dd",
   "metadata": {},
   "outputs": [
    {
     "data": {
      "text/html": [
       "<div>\n",
       "<style scoped>\n",
       "    .dataframe tbody tr th:only-of-type {\n",
       "        vertical-align: middle;\n",
       "    }\n",
       "\n",
       "    .dataframe tbody tr th {\n",
       "        vertical-align: top;\n",
       "    }\n",
       "\n",
       "    .dataframe thead th {\n",
       "        text-align: right;\n",
       "    }\n",
       "</style>\n",
       "<table border=\"1\" class=\"dataframe\">\n",
       "  <thead>\n",
       "    <tr style=\"text-align: right;\">\n",
       "      <th></th>\n",
       "      <th>id</th>\n",
       "      <th>vin</th>\n",
       "      <th>price</th>\n",
       "      <th>miles</th>\n",
       "      <th>stock_no</th>\n",
       "      <th>year</th>\n",
       "      <th>make</th>\n",
       "      <th>model</th>\n",
       "      <th>trim</th>\n",
       "      <th>body_type</th>\n",
       "      <th>...</th>\n",
       "      <th>drivetrain</th>\n",
       "      <th>transmission</th>\n",
       "      <th>fuel_type</th>\n",
       "      <th>engine_size</th>\n",
       "      <th>engine_block</th>\n",
       "      <th>seller_name</th>\n",
       "      <th>street</th>\n",
       "      <th>city</th>\n",
       "      <th>state</th>\n",
       "      <th>zip</th>\n",
       "    </tr>\n",
       "  </thead>\n",
       "  <tbody>\n",
       "    <tr>\n",
       "      <th>0</th>\n",
       "      <td>38b2f52e-8f5d</td>\n",
       "      <td>1GCWGFCF3F1284719</td>\n",
       "      <td>20998.0</td>\n",
       "      <td>115879.0</td>\n",
       "      <td>W1T503168C</td>\n",
       "      <td>2015.0</td>\n",
       "      <td>Chevrolet</td>\n",
       "      <td>Express Cargo</td>\n",
       "      <td>Work Van</td>\n",
       "      <td>Cargo Van</td>\n",
       "      <td>...</td>\n",
       "      <td>RWD</td>\n",
       "      <td>Automatic</td>\n",
       "      <td>E85 / Unleaded</td>\n",
       "      <td>4.8</td>\n",
       "      <td>V</td>\n",
       "      <td>nissan ellicott city</td>\n",
       "      <td>8569 Baltimore National Pike</td>\n",
       "      <td>Ellicott City</td>\n",
       "      <td>MD</td>\n",
       "      <td>21043</td>\n",
       "    </tr>\n",
       "    <tr>\n",
       "      <th>1</th>\n",
       "      <td>97ba4955-ccf0</td>\n",
       "      <td>WBY7Z8C59JVB87514</td>\n",
       "      <td>27921.0</td>\n",
       "      <td>7339.0</td>\n",
       "      <td>P33243</td>\n",
       "      <td>2018.0</td>\n",
       "      <td>BMW</td>\n",
       "      <td>i3</td>\n",
       "      <td>s</td>\n",
       "      <td>Hatchback</td>\n",
       "      <td>...</td>\n",
       "      <td>RWD</td>\n",
       "      <td>Automatic</td>\n",
       "      <td>Electric / Premium Unleaded</td>\n",
       "      <td>0.6</td>\n",
       "      <td>I</td>\n",
       "      <td>hendrick honda pompano beach</td>\n",
       "      <td>5381 N Federal Highway</td>\n",
       "      <td>Pompano Beach</td>\n",
       "      <td>FL</td>\n",
       "      <td>33064</td>\n",
       "    </tr>\n",
       "    <tr>\n",
       "      <th>2</th>\n",
       "      <td>be1da9fd-0f34</td>\n",
       "      <td>ML32F4FJ2JHF10325</td>\n",
       "      <td>11055.0</td>\n",
       "      <td>39798.0</td>\n",
       "      <td>WM2091A</td>\n",
       "      <td>2018.0</td>\n",
       "      <td>Mitsubishi</td>\n",
       "      <td>Mirage G4</td>\n",
       "      <td>SE</td>\n",
       "      <td>Sedan</td>\n",
       "      <td>...</td>\n",
       "      <td>FWD</td>\n",
       "      <td>Automatic</td>\n",
       "      <td>Unleaded</td>\n",
       "      <td>1.2</td>\n",
       "      <td>I</td>\n",
       "      <td>russ darrow toyota</td>\n",
       "      <td>2700 West Washington St.</td>\n",
       "      <td>West Bend</td>\n",
       "      <td>WI</td>\n",
       "      <td>53095</td>\n",
       "    </tr>\n",
       "    <tr>\n",
       "      <th>3</th>\n",
       "      <td>84327e45-6cb6</td>\n",
       "      <td>1GCPTEE15K1291189</td>\n",
       "      <td>52997.0</td>\n",
       "      <td>28568.0</td>\n",
       "      <td>9U2Y425A</td>\n",
       "      <td>2019.0</td>\n",
       "      <td>Chevrolet</td>\n",
       "      <td>Colorado</td>\n",
       "      <td>ZR2</td>\n",
       "      <td>Pickup</td>\n",
       "      <td>...</td>\n",
       "      <td>4WD</td>\n",
       "      <td>Automatic</td>\n",
       "      <td>Diesel</td>\n",
       "      <td>2.8</td>\n",
       "      <td>I</td>\n",
       "      <td>young kia</td>\n",
       "      <td>308 North Main Street</td>\n",
       "      <td>Layton</td>\n",
       "      <td>UT</td>\n",
       "      <td>84041</td>\n",
       "    </tr>\n",
       "    <tr>\n",
       "      <th>4</th>\n",
       "      <td>cde691c3-91dd</td>\n",
       "      <td>1G2AL18F087312093</td>\n",
       "      <td>NaN</td>\n",
       "      <td>188485.0</td>\n",
       "      <td>T36625A</td>\n",
       "      <td>2008.0</td>\n",
       "      <td>Pontiac</td>\n",
       "      <td>G5</td>\n",
       "      <td>Base</td>\n",
       "      <td>Coupe</td>\n",
       "      <td>...</td>\n",
       "      <td>FWD</td>\n",
       "      <td>Automatic</td>\n",
       "      <td>Unleaded</td>\n",
       "      <td>2.2</td>\n",
       "      <td>I</td>\n",
       "      <td>pappas toyota</td>\n",
       "      <td>10011 Spencer Rd</td>\n",
       "      <td>Saint Peters</td>\n",
       "      <td>MO</td>\n",
       "      <td>63376</td>\n",
       "    </tr>\n",
       "  </tbody>\n",
       "</table>\n",
       "<p>5 rows × 21 columns</p>\n",
       "</div>"
      ],
      "text/plain": [
       "              id                vin    price     miles    stock_no    year  \\\n",
       "0  38b2f52e-8f5d  1GCWGFCF3F1284719  20998.0  115879.0  W1T503168C  2015.0   \n",
       "1  97ba4955-ccf0  WBY7Z8C59JVB87514  27921.0    7339.0      P33243  2018.0   \n",
       "2  be1da9fd-0f34  ML32F4FJ2JHF10325  11055.0   39798.0     WM2091A  2018.0   \n",
       "3  84327e45-6cb6  1GCPTEE15K1291189  52997.0   28568.0    9U2Y425A  2019.0   \n",
       "4  cde691c3-91dd  1G2AL18F087312093      NaN  188485.0     T36625A  2008.0   \n",
       "\n",
       "         make          model      trim  body_type  ... drivetrain  \\\n",
       "0   Chevrolet  Express Cargo  Work Van  Cargo Van  ...        RWD   \n",
       "1         BMW             i3         s  Hatchback  ...        RWD   \n",
       "2  Mitsubishi      Mirage G4        SE      Sedan  ...        FWD   \n",
       "3   Chevrolet       Colorado       ZR2     Pickup  ...        4WD   \n",
       "4     Pontiac             G5      Base      Coupe  ...        FWD   \n",
       "\n",
       "  transmission                    fuel_type engine_size  engine_block  \\\n",
       "0    Automatic               E85 / Unleaded         4.8             V   \n",
       "1    Automatic  Electric / Premium Unleaded         0.6             I   \n",
       "2    Automatic                     Unleaded         1.2             I   \n",
       "3    Automatic                       Diesel         2.8             I   \n",
       "4    Automatic                     Unleaded         2.2             I   \n",
       "\n",
       "                    seller_name                        street           city  \\\n",
       "0          nissan ellicott city  8569 Baltimore National Pike  Ellicott City   \n",
       "1  hendrick honda pompano beach        5381 N Federal Highway  Pompano Beach   \n",
       "2            russ darrow toyota      2700 West Washington St.      West Bend   \n",
       "3                     young kia         308 North Main Street         Layton   \n",
       "4                 pappas toyota              10011 Spencer Rd   Saint Peters   \n",
       "\n",
       "  state    zip  \n",
       "0    MD  21043  \n",
       "1    FL  33064  \n",
       "2    WI  53095  \n",
       "3    UT  84041  \n",
       "4    MO  63376  \n",
       "\n",
       "[5 rows x 21 columns]"
      ]
     },
     "execution_count": 5,
     "metadata": {},
     "output_type": "execute_result"
    }
   ],
   "source": [
    "df_used.head()"
   ]
  },
  {
   "cell_type": "code",
   "execution_count": 6,
   "id": "cd1040f7",
   "metadata": {},
   "outputs": [
    {
     "data": {
      "text/plain": [
       "id               object\n",
       "vin              object\n",
       "price           float64\n",
       "miles           float64\n",
       "stock_no         object\n",
       "year            float64\n",
       "make             object\n",
       "model            object\n",
       "trim             object\n",
       "body_type        object\n",
       "vehicle_type     object\n",
       "drivetrain       object\n",
       "transmission     object\n",
       "fuel_type        object\n",
       "engine_size     float64\n",
       "engine_block     object\n",
       "seller_name      object\n",
       "street           object\n",
       "city             object\n",
       "state            object\n",
       "zip              object\n",
       "dtype: object"
      ]
     },
     "execution_count": 6,
     "metadata": {},
     "output_type": "execute_result"
    }
   ],
   "source": [
    "df_used.dtypes"
   ]
  },
  {
   "cell_type": "markdown",
   "id": "7bbd31b3",
   "metadata": {},
   "source": [
    "The 'year' datatype needs to converting from a float to an integer for relevant use."
   ]
  },
  {
   "cell_type": "code",
   "execution_count": 14,
   "id": "e727ae99",
   "metadata": {},
   "outputs": [],
   "source": [
    "df_used['year'] = df_used['year'].astype(int)"
   ]
  },
  {
   "cell_type": "code",
   "execution_count": 15,
   "id": "1ac4c9c3",
   "metadata": {},
   "outputs": [
    {
     "data": {
      "text/plain": [
       "vin              object\n",
       "price           float64\n",
       "miles           float64\n",
       "year              int64\n",
       "make             object\n",
       "model            object\n",
       "body_type        object\n",
       "vehicle_type     object\n",
       "drivetrain       object\n",
       "transmission     object\n",
       "fuel_type        object\n",
       "engine_size     float64\n",
       "city             object\n",
       "state            object\n",
       "zip              object\n",
       "dtype: object"
      ]
     },
     "execution_count": 15,
     "metadata": {},
     "output_type": "execute_result"
    }
   ],
   "source": [
    "df_used.dtypes"
   ]
  },
  {
   "cell_type": "markdown",
   "id": "bfd2cb16",
   "metadata": {},
   "source": [
    "We will select 15 columns out of the original 21 columns that are relevant for our analysis"
   ]
  },
  {
   "cell_type": "code",
   "execution_count": null,
   "id": "c6bee282",
   "metadata": {},
   "outputs": [],
   "source": [
    "df_used = df_used[['vin', 'price', 'miles','year','make', 'model', 'body_type', 'vehicle_type',\n",
    "                   'drivetrain', 'transmission', 'fuel_type', 'engine_size', 'city', 'state', 'zip']]"
   ]
  },
  {
   "cell_type": "code",
   "execution_count": 8,
   "id": "15ee7614",
   "metadata": {},
   "outputs": [
    {
     "data": {
      "text/plain": [
       "(2500000, 15)"
      ]
     },
     "execution_count": 8,
     "metadata": {},
     "output_type": "execute_result"
    }
   ],
   "source": [
    "df_used.shape"
   ]
  },
  {
   "cell_type": "markdown",
   "id": "48bc515d",
   "metadata": {},
   "source": [
    "We now look at the numeric columns of our dataset to get a rough idea of its basic statistics"
   ]
  },
  {
   "cell_type": "code",
   "execution_count": 11,
   "id": "375d1818",
   "metadata": {},
   "outputs": [
    {
     "data": {
      "text/html": [
       "<div>\n",
       "<style scoped>\n",
       "    .dataframe tbody tr th:only-of-type {\n",
       "        vertical-align: middle;\n",
       "    }\n",
       "\n",
       "    .dataframe tbody tr th {\n",
       "        vertical-align: top;\n",
       "    }\n",
       "\n",
       "    .dataframe thead th {\n",
       "        text-align: right;\n",
       "    }\n",
       "</style>\n",
       "<table border=\"1\" class=\"dataframe\">\n",
       "  <thead>\n",
       "    <tr style=\"text-align: right;\">\n",
       "      <th></th>\n",
       "      <th>price</th>\n",
       "      <th>miles</th>\n",
       "      <th>year</th>\n",
       "      <th>engine_size</th>\n",
       "    </tr>\n",
       "  </thead>\n",
       "  <tbody>\n",
       "    <tr>\n",
       "      <th>count</th>\n",
       "      <td>2270385.000</td>\n",
       "      <td>2474949.000</td>\n",
       "      <td>2499928.000</td>\n",
       "      <td>2448312.000</td>\n",
       "    </tr>\n",
       "    <tr>\n",
       "      <th>mean</th>\n",
       "      <td>27785.537</td>\n",
       "      <td>53168.938</td>\n",
       "      <td>2016.399</td>\n",
       "      <td>2.903</td>\n",
       "    </tr>\n",
       "    <tr>\n",
       "      <th>std</th>\n",
       "      <td>19256.314</td>\n",
       "      <td>45979.902</td>\n",
       "      <td>3.899</td>\n",
       "      <td>1.333</td>\n",
       "    </tr>\n",
       "    <tr>\n",
       "      <th>min</th>\n",
       "      <td>0.000</td>\n",
       "      <td>0.000</td>\n",
       "      <td>1980.000</td>\n",
       "      <td>0.600</td>\n",
       "    </tr>\n",
       "    <tr>\n",
       "      <th>25%</th>\n",
       "      <td>16995.000</td>\n",
       "      <td>21662.000</td>\n",
       "      <td>2015.000</td>\n",
       "      <td>2.000</td>\n",
       "    </tr>\n",
       "    <tr>\n",
       "      <th>50%</th>\n",
       "      <td>23997.000</td>\n",
       "      <td>38629.000</td>\n",
       "      <td>2018.000</td>\n",
       "      <td>2.400</td>\n",
       "    </tr>\n",
       "    <tr>\n",
       "      <th>75%</th>\n",
       "      <td>34900.000</td>\n",
       "      <td>74602.000</td>\n",
       "      <td>2019.000</td>\n",
       "      <td>3.600</td>\n",
       "    </tr>\n",
       "    <tr>\n",
       "      <th>max</th>\n",
       "      <td>1495000.000</td>\n",
       "      <td>2975291.000</td>\n",
       "      <td>2022.000</td>\n",
       "      <td>30.000</td>\n",
       "    </tr>\n",
       "  </tbody>\n",
       "</table>\n",
       "</div>"
      ],
      "text/plain": [
       "             price        miles         year  engine_size\n",
       "count  2270385.000  2474949.000  2499928.000  2448312.000\n",
       "mean     27785.537    53168.938     2016.399        2.903\n",
       "std      19256.314    45979.902        3.899        1.333\n",
       "min          0.000        0.000     1980.000        0.600\n",
       "25%      16995.000    21662.000     2015.000        2.000\n",
       "50%      23997.000    38629.000     2018.000        2.400\n",
       "75%      34900.000    74602.000     2019.000        3.600\n",
       "max    1495000.000  2975291.000     2022.000       30.000"
      ]
     },
     "execution_count": 11,
     "metadata": {},
     "output_type": "execute_result"
    }
   ],
   "source": [
    "df_used.describe().round(3)"
   ]
  },
  {
   "cell_type": "markdown",
   "id": "9f144d2b",
   "metadata": {},
   "source": [
    "Let start cleaning our data by checking for missing values and duplicates \n",
    "\n",
    "First let's see how many null values exists in our dataset"
   ]
  },
  {
   "cell_type": "code",
   "execution_count": 10,
   "id": "f5bd9c59",
   "metadata": {},
   "outputs": [
    {
     "data": {
      "text/plain": [
       "vin                  0\n",
       "price           229615\n",
       "miles            25051\n",
       "year                72\n",
       "make                 0\n",
       "model             4015\n",
       "body_type        13922\n",
       "vehicle_type     19210\n",
       "drivetrain        7870\n",
       "transmission      6744\n",
       "fuel_type        22893\n",
       "engine_size      51688\n",
       "city              4208\n",
       "state             4215\n",
       "zip               4295\n",
       "dtype: int64"
      ]
     },
     "execution_count": 10,
     "metadata": {},
     "output_type": "execute_result"
    }
   ],
   "source": [
    "df_used.isnull().sum()"
   ]
  },
  {
   "cell_type": "markdown",
   "id": "2d853384",
   "metadata": {},
   "source": [
    "Price is a key metric and essential for our analysis, we will remove all null values from its column.\n",
    "\n",
    "We will also remove the other null values since they aren't many relative to the dataset and won't distort our readings."
   ]
  },
  {
   "cell_type": "code",
   "execution_count": 12,
   "id": "2b2e30aa",
   "metadata": {},
   "outputs": [],
   "source": [
    "df_used = df_used.dropna()"
   ]
  },
  {
   "cell_type": "code",
   "execution_count": 13,
   "id": "1e31b1ae",
   "metadata": {},
   "outputs": [
    {
     "data": {
      "text/plain": [
       "vin             0\n",
       "price           0\n",
       "miles           0\n",
       "year            0\n",
       "make            0\n",
       "model           0\n",
       "body_type       0\n",
       "vehicle_type    0\n",
       "drivetrain      0\n",
       "transmission    0\n",
       "fuel_type       0\n",
       "engine_size     0\n",
       "city            0\n",
       "state           0\n",
       "zip             0\n",
       "dtype: int64"
      ]
     },
     "execution_count": 13,
     "metadata": {},
     "output_type": "execute_result"
    }
   ],
   "source": [
    "df_used.isnull().sum()"
   ]
  },
  {
   "cell_type": "code",
   "execution_count": 16,
   "id": "f5177285",
   "metadata": {},
   "outputs": [
    {
     "data": {
      "text/plain": [
       "(2213774, 15)"
      ]
     },
     "execution_count": 16,
     "metadata": {},
     "output_type": "execute_result"
    }
   ],
   "source": [
    "df_used.shape"
   ]
  },
  {
   "cell_type": "markdown",
   "id": "399d34b1",
   "metadata": {},
   "source": [
    "The Vehicle Identification Number (VIN) is a unique identifier for each individual car. We will check to see if duplicates exists and remove them"
   ]
  },
  {
   "cell_type": "code",
   "execution_count": 17,
   "id": "4d4fa58a",
   "metadata": {},
   "outputs": [
    {
     "data": {
      "text/plain": [
       "1141960"
      ]
     },
     "execution_count": 17,
     "metadata": {},
     "output_type": "execute_result"
    }
   ],
   "source": [
    "df_used['vin'].duplicated().sum()"
   ]
  },
  {
   "cell_type": "code",
   "execution_count": 18,
   "id": "2d872e15",
   "metadata": {},
   "outputs": [],
   "source": [
    "df_used.drop_duplicates(subset=['vin'], inplace=True)"
   ]
  },
  {
   "cell_type": "code",
   "execution_count": 19,
   "id": "a70cb529",
   "metadata": {},
   "outputs": [
    {
     "data": {
      "text/plain": [
       "0"
      ]
     },
     "execution_count": 19,
     "metadata": {},
     "output_type": "execute_result"
    }
   ],
   "source": [
    "df_used.vin.duplicated().sum()"
   ]
  },
  {
   "cell_type": "code",
   "execution_count": 20,
   "id": "4d85b3a0",
   "metadata": {},
   "outputs": [
    {
     "data": {
      "text/plain": [
       "(1071814, 15)"
      ]
     },
     "execution_count": 20,
     "metadata": {},
     "output_type": "execute_result"
    }
   ],
   "source": [
    "df_used.shape"
   ]
  },
  {
   "cell_type": "markdown",
   "id": "6de4b323",
   "metadata": {},
   "source": [
    "Since we are only looking for used cars from 2010-2021 we'll filter the dataframe for only those years."
   ]
  },
  {
   "cell_type": "code",
   "execution_count": 21,
   "id": "14109c4e",
   "metadata": {},
   "outputs": [],
   "source": [
    "df_used = df_used.loc[(df_used['year'] > 2009) & (df_used['year'] < 2022) ]"
   ]
  },
  {
   "cell_type": "code",
   "execution_count": 22,
   "id": "7951301d",
   "metadata": {},
   "outputs": [
    {
     "name": "stdout",
     "output_type": "stream",
     "text": [
      "[2010 2011 2012 2013 2014 2015 2016 2017 2018 2019 2020 2021]\n"
     ]
    }
   ],
   "source": [
    "car_yrs = df_used.year.unique()\n",
    "car_yrs.sort()\n",
    "print(car_yrs)"
   ]
  },
  {
   "cell_type": "code",
   "execution_count": 23,
   "id": "de89bc2f",
   "metadata": {},
   "outputs": [
    {
     "data": {
      "text/plain": [
       "(995980, 15)"
      ]
     },
     "execution_count": 23,
     "metadata": {},
     "output_type": "execute_result"
    }
   ],
   "source": [
    "df_used.shape"
   ]
  },
  {
   "cell_type": "code",
   "execution_count": 24,
   "id": "5f26fa86",
   "metadata": {},
   "outputs": [
    {
     "name": "stdout",
     "output_type": "stream",
     "text": [
      "<class 'pandas.core.frame.DataFrame'>\n",
      "Int64Index: 995980 entries, 0 to 2499999\n",
      "Data columns (total 15 columns):\n",
      " #   Column        Non-Null Count   Dtype  \n",
      "---  ------        --------------   -----  \n",
      " 0   vin           995980 non-null  object \n",
      " 1   price         995980 non-null  float64\n",
      " 2   miles         995980 non-null  float64\n",
      " 3   year          995980 non-null  int64  \n",
      " 4   make          995980 non-null  object \n",
      " 5   model         995980 non-null  object \n",
      " 6   body_type     995980 non-null  object \n",
      " 7   vehicle_type  995980 non-null  object \n",
      " 8   drivetrain    995980 non-null  object \n",
      " 9   transmission  995980 non-null  object \n",
      " 10  fuel_type     995980 non-null  object \n",
      " 11  engine_size   995980 non-null  float64\n",
      " 12  city          995980 non-null  object \n",
      " 13  state         995980 non-null  object \n",
      " 14  zip           995980 non-null  object \n",
      "dtypes: float64(3), int64(1), object(11)\n",
      "memory usage: 121.6+ MB\n"
     ]
    }
   ],
   "source": [
    "df_used.info()"
   ]
  },
  {
   "cell_type": "code",
   "execution_count": null,
   "id": "8a6605f8",
   "metadata": {},
   "outputs": [],
   "source": []
  }
 ],
 "metadata": {
  "kernelspec": {
   "display_name": "Python 3 (ipykernel)",
   "language": "python",
   "name": "python3"
  },
  "language_info": {
   "codemirror_mode": {
    "name": "ipython",
    "version": 3
   },
   "file_extension": ".py",
   "mimetype": "text/x-python",
   "name": "python",
   "nbconvert_exporter": "python",
   "pygments_lexer": "ipython3",
   "version": "3.9.7"
  }
 },
 "nbformat": 4,
 "nbformat_minor": 5
}
